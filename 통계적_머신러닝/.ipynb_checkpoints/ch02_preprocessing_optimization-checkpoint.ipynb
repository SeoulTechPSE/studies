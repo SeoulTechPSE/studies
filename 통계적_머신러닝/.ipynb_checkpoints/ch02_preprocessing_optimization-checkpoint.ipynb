{
 "cells": [
  {
   "cell_type": "markdown",
   "id": "a18870cb",
   "metadata": {},
   "source": [
    "# 2장. 사전과정과 최적화"
   ]
  },
  {
   "cell_type": "markdown",
   "id": "c3ad13b4",
   "metadata": {},
   "source": [
    "## 2.1. 실수자료로의 전환(vectorization)"
   ]
  },
  {
   "cell_type": "code",
   "execution_count": 1,
   "id": "b0166cd9",
   "metadata": {},
   "outputs": [
    {
     "data": {
      "text/plain": [
       "({'city': 'Seoul', 'temp': 10.0},\n",
       " {'city': 'Dubai', 'temp': 33.5},\n",
       " {'city': 'LA', 'temp': 20.0})"
      ]
     },
     "execution_count": 1,
     "metadata": {},
     "output_type": "execute_result"
    }
   ],
   "source": [
    "# 범주형 자료의 수량화\n",
    "x = ({'city': 'Seoul', 'temp': 10.0}, {'city': 'Dubai', 'temp': 33.5}, {'city': 'LA', 'temp': 20.0})\n",
    "x"
   ]
  },
  {
   "cell_type": "code",
   "execution_count": 2,
   "id": "0857b3e0",
   "metadata": {},
   "outputs": [
    {
     "data": {
      "text/plain": [
       "array([[ 0. ,  0. ,  1. , 10. ],\n",
       "       [ 1. ,  0. ,  0. , 33.5],\n",
       "       [ 0. ,  1. ,  0. , 20. ]])"
      ]
     },
     "execution_count": 2,
     "metadata": {},
     "output_type": "execute_result"
    }
   ],
   "source": [
    "from sklearn.feature_extraction import DictVectorizer\n",
    "\n",
    "vec1 = DictVectorizer(sparse=False)\n",
    "vec1.fit_transform(x)  # x를 범주형 수량화 자료로 변환"
   ]
  },
  {
   "cell_type": "code",
   "execution_count": 3,
   "id": "336ba2ba",
   "metadata": {},
   "outputs": [
    {
     "data": {
      "text/plain": [
       "array([[ 0. ,  0. ,  1. , 10. ],\n",
       "       [ 1. ,  0. ,  0. , 33.5],\n",
       "       [ 0. ,  1. ,  0. , 20. ]])"
      ]
     },
     "execution_count": 3,
     "metadata": {},
     "output_type": "execute_result"
    }
   ],
   "source": [
    "# vec1 = DictVectorizer()  # 메모리를 줄이기 위해 sparse=True\n",
    "x1 = vec1.fit_transform(x)\n",
    "x1"
   ]
  },
  {
   "cell_type": "code",
   "execution_count": 4,
   "id": "f87578f8",
   "metadata": {},
   "outputs": [
    {
     "data": {
      "text/plain": [
       "['city=Dubai', 'city=LA', 'city=Seoul', 'temp']"
      ]
     },
     "execution_count": 4,
     "metadata": {},
     "output_type": "execute_result"
    }
   ],
   "source": [
    "vec1.get_feature_names()"
   ]
  },
  {
   "cell_type": "markdown",
   "id": "5f50c56a",
   "metadata": {},
   "source": [
    "---"
   ]
  },
  {
   "cell_type": "code",
   "execution_count": 5,
   "id": "b02161f4",
   "metadata": {},
   "outputs": [
    {
     "data": {
      "text/plain": [
       "['떴다 떴다 비행기 날아라 날아라',\n",
       " '높이 높이 날아라 우리 비행기',\n",
       " '내가 만든 비행기 날아라 날아라',\n",
       " '멀리 멀리 날아라 우리 비행기']"
      ]
     },
     "execution_count": 5,
     "metadata": {},
     "output_type": "execute_result"
    }
   ],
   "source": [
    "text = ['떴다 떴다 비행기 날아라 날아라',\n",
    "       '높이 높이 날아라 우리 비행기',\n",
    "       '내가 만든 비행기 날아라 날아라',\n",
    "       '멀리 멀리 날아라 우리 비행기']\n",
    "text"
   ]
  },
  {
   "cell_type": "code",
   "execution_count": 6,
   "id": "50fd9ac0",
   "metadata": {},
   "outputs": [
    {
     "data": {
      "text/html": [
       "<div>\n",
       "<style scoped>\n",
       "    .dataframe tbody tr th:only-of-type {\n",
       "        vertical-align: middle;\n",
       "    }\n",
       "\n",
       "    .dataframe tbody tr th {\n",
       "        vertical-align: top;\n",
       "    }\n",
       "\n",
       "    .dataframe thead th {\n",
       "        text-align: right;\n",
       "    }\n",
       "</style>\n",
       "<table border=\"1\" class=\"dataframe\">\n",
       "  <thead>\n",
       "    <tr style=\"text-align: right;\">\n",
       "      <th></th>\n",
       "      <th>날아라</th>\n",
       "      <th>내가</th>\n",
       "      <th>높이</th>\n",
       "      <th>떴다</th>\n",
       "      <th>만든</th>\n",
       "      <th>멀리</th>\n",
       "      <th>비행기</th>\n",
       "      <th>우리</th>\n",
       "    </tr>\n",
       "  </thead>\n",
       "  <tbody>\n",
       "    <tr>\n",
       "      <th>0</th>\n",
       "      <td>2</td>\n",
       "      <td>0</td>\n",
       "      <td>0</td>\n",
       "      <td>2</td>\n",
       "      <td>0</td>\n",
       "      <td>0</td>\n",
       "      <td>1</td>\n",
       "      <td>0</td>\n",
       "    </tr>\n",
       "    <tr>\n",
       "      <th>1</th>\n",
       "      <td>1</td>\n",
       "      <td>0</td>\n",
       "      <td>2</td>\n",
       "      <td>0</td>\n",
       "      <td>0</td>\n",
       "      <td>0</td>\n",
       "      <td>1</td>\n",
       "      <td>1</td>\n",
       "    </tr>\n",
       "    <tr>\n",
       "      <th>2</th>\n",
       "      <td>2</td>\n",
       "      <td>1</td>\n",
       "      <td>0</td>\n",
       "      <td>0</td>\n",
       "      <td>1</td>\n",
       "      <td>0</td>\n",
       "      <td>1</td>\n",
       "      <td>0</td>\n",
       "    </tr>\n",
       "    <tr>\n",
       "      <th>3</th>\n",
       "      <td>1</td>\n",
       "      <td>0</td>\n",
       "      <td>0</td>\n",
       "      <td>0</td>\n",
       "      <td>0</td>\n",
       "      <td>2</td>\n",
       "      <td>1</td>\n",
       "      <td>1</td>\n",
       "    </tr>\n",
       "  </tbody>\n",
       "</table>\n",
       "</div>"
      ],
      "text/plain": [
       "   날아라  내가  높이  떴다  만든  멀리  비행기  우리\n",
       "0    2   0   0   2   0   0    1   0\n",
       "1    1   0   2   0   0   0    1   1\n",
       "2    2   1   0   0   1   0    1   0\n",
       "3    1   0   0   0   0   2    1   1"
      ]
     },
     "execution_count": 6,
     "metadata": {},
     "output_type": "execute_result"
    }
   ],
   "source": [
    "from sklearn.feature_extraction.text import CountVectorizer\n",
    "\n",
    "vec2 = CountVectorizer()\n",
    "t = vec2.fit_transform(text).toarray()  # text를 수량화 배열 자료로 변환\n",
    "\n",
    "import pandas as pd\n",
    "\n",
    "t1 = pd.DataFrame(t, columns=vec2.get_feature_names())\n",
    "t1"
   ]
  },
  {
   "cell_type": "code",
   "execution_count": 7,
   "id": "a4f50342",
   "metadata": {},
   "outputs": [
    {
     "data": {
      "text/html": [
       "<div>\n",
       "<style scoped>\n",
       "    .dataframe tbody tr th:only-of-type {\n",
       "        vertical-align: middle;\n",
       "    }\n",
       "\n",
       "    .dataframe tbody tr th {\n",
       "        vertical-align: top;\n",
       "    }\n",
       "\n",
       "    .dataframe thead th {\n",
       "        text-align: right;\n",
       "    }\n",
       "</style>\n",
       "<table border=\"1\" class=\"dataframe\">\n",
       "  <thead>\n",
       "    <tr style=\"text-align: right;\">\n",
       "      <th></th>\n",
       "      <th>날아라</th>\n",
       "      <th>내가</th>\n",
       "      <th>높이</th>\n",
       "      <th>떴다</th>\n",
       "      <th>만든</th>\n",
       "      <th>멀리</th>\n",
       "      <th>비행기</th>\n",
       "      <th>우리</th>\n",
       "    </tr>\n",
       "  </thead>\n",
       "  <tbody>\n",
       "    <tr>\n",
       "      <th>0</th>\n",
       "      <td>0.450735</td>\n",
       "      <td>0.000000</td>\n",
       "      <td>0.00000</td>\n",
       "      <td>0.86374</td>\n",
       "      <td>0.000000</td>\n",
       "      <td>0.00000</td>\n",
       "      <td>0.225368</td>\n",
       "      <td>0.000000</td>\n",
       "    </tr>\n",
       "    <tr>\n",
       "      <th>1</th>\n",
       "      <td>0.229589</td>\n",
       "      <td>0.000000</td>\n",
       "      <td>0.87992</td>\n",
       "      <td>0.00000</td>\n",
       "      <td>0.000000</td>\n",
       "      <td>0.00000</td>\n",
       "      <td>0.229589</td>\n",
       "      <td>0.346869</td>\n",
       "    </tr>\n",
       "    <tr>\n",
       "      <th>2</th>\n",
       "      <td>0.569241</td>\n",
       "      <td>0.545415</td>\n",
       "      <td>0.00000</td>\n",
       "      <td>0.00000</td>\n",
       "      <td>0.545415</td>\n",
       "      <td>0.00000</td>\n",
       "      <td>0.284620</td>\n",
       "      <td>0.000000</td>\n",
       "    </tr>\n",
       "    <tr>\n",
       "      <th>3</th>\n",
       "      <td>0.229589</td>\n",
       "      <td>0.000000</td>\n",
       "      <td>0.00000</td>\n",
       "      <td>0.00000</td>\n",
       "      <td>0.000000</td>\n",
       "      <td>0.87992</td>\n",
       "      <td>0.229589</td>\n",
       "      <td>0.346869</td>\n",
       "    </tr>\n",
       "  </tbody>\n",
       "</table>\n",
       "</div>"
      ],
      "text/plain": [
       "        날아라        내가       높이       떴다        만든       멀리       비행기        우리\n",
       "0  0.450735  0.000000  0.00000  0.86374  0.000000  0.00000  0.225368  0.000000\n",
       "1  0.229589  0.000000  0.87992  0.00000  0.000000  0.00000  0.229589  0.346869\n",
       "2  0.569241  0.545415  0.00000  0.00000  0.545415  0.00000  0.284620  0.000000\n",
       "3  0.229589  0.000000  0.00000  0.00000  0.000000  0.87992  0.229589  0.346869"
      ]
     },
     "execution_count": 7,
     "metadata": {},
     "output_type": "execute_result"
    }
   ],
   "source": [
    "# Term Frequency Inverse Document Frequency\n",
    "\n",
    "from sklearn.feature_extraction.text import TfidfVectorizer\n",
    "\n",
    "tfid = TfidfVectorizer()\n",
    "\n",
    "x2 = tfid.fit_transform(text).toarray()\n",
    "x3 = pd.DataFrame(x2, columns=tfid.get_feature_names())\n",
    "x3"
   ]
  },
  {
   "cell_type": "markdown",
   "id": "68ccd077",
   "metadata": {},
   "source": [
    "---"
   ]
  },
  {
   "cell_type": "markdown",
   "id": "1c025f62",
   "metadata": {},
   "source": [
    "* 표준화\n",
    "\n",
    "  $\\displaystyle \\mathbf{x}_{std} = \\frac{\\mathbf{x} - \\text{mean}\\left(\\mathbf{x}\\right)}{\\text{sd}\\left( \\mathbf{x} \\right)}$\n",
    "\n",
    "$~$\n",
    "* 정규화\n",
    "\n",
    "  $\\displaystyle \\mathbf{x}_{nor} = \\frac{\\mathbf{x} - \\text{min}\\left( \\mathbf{x}\\right)}{\\text{max}\\left( \\mathbf{x}\\right) - \\text{min}\\left( \\mathbf{x}\\right)}$"
   ]
  },
  {
   "cell_type": "markdown",
   "id": "424e5507",
   "metadata": {},
   "source": [
    "---"
   ]
  },
  {
   "cell_type": "code",
   "execution_count": 8,
   "id": "45c2e58b",
   "metadata": {},
   "outputs": [
    {
     "data": {
      "image/png": "[encoded data removed]",
      "text/plain": [
       "<Figure size 432x288 with 1 Axes>"
      ]
     },
     "metadata": {
      "needs_background": "light"
     },
     "output_type": "display_data"
    }
   ],
   "source": [
    "# 특성변수 생성\n",
    "\n",
    "import matplotlib.pyplot as plt\n",
    "import numpy as np\n",
    "\n",
    "x = np.array([1, 2, 3, 4, 5])\n",
    "y = np.array([5, 3, 1, 5, 8])\n",
    "\n",
    "plt.plot(x, y, 'o')  # 선형회귀를 하기에는 부적합\n",
    "plt.show()"
   ]
  },
  {
   "cell_type": "markdown",
   "id": "0d96d5a7",
   "metadata": {},
   "source": [
    "---"
   ]
  },
  {
   "cell_type": "code",
   "execution_count": 9,
   "id": "36a3834e",
   "metadata": {},
   "outputs": [
    {
     "data": {
      "text/plain": [
       "array([[  1.,   1.,   1.,   1.],\n",
       "       [  1.,   2.,   4.,   8.],\n",
       "       [  1.,   3.,   9.,  27.],\n",
       "       [  1.,   4.,  16.,  64.],\n",
       "       [  1.,   5.,  25., 125.]])"
      ]
     },
     "execution_count": 9,
     "metadata": {},
     "output_type": "execute_result"
    }
   ],
   "source": [
    "from sklearn.preprocessing import PolynomialFeatures\n",
    "\n",
    "fg = PolynomialFeatures(degree=3, include_bias=True)  # include_bias는 절편항 여부\n",
    "x1 = fg.fit_transform(x[:, np.newaxis])  # 3차까지 생성\n",
    "x1"
   ]
  },
  {
   "cell_type": "code",
   "execution_count": 10,
   "id": "394355cc",
   "metadata": {},
   "outputs": [
    {
     "data": {
      "image/png": "[encoded data removed]",
      "text/plain": [
       "<Figure size 432x288 with 1 Axes>"
      ]
     },
     "metadata": {
      "needs_background": "light"
     },
     "output_type": "display_data"
    }
   ],
   "source": [
    "from sklearn.linear_model import LinearRegression\n",
    "\n",
    "reg = LinearRegression()\n",
    "reg.fit(x1, y)\n",
    "\n",
    "yfit = reg.predict(x1)  # 적합 값\n",
    "\n",
    "plt.plot(x, y, 'ko', label='orgin')\n",
    "plt.plot(x, yfit, 'rs-', label='fitted')\n",
    "plt.legend(loc='best')\n",
    "\n",
    "plt.show()"
   ]
  },
  {
   "cell_type": "markdown",
   "id": "e1fa0c6d",
   "metadata": {},
   "source": [
    "---"
   ]
  },
  {
   "cell_type": "code",
   "execution_count": 11,
   "id": "39cc045c",
   "metadata": {},
   "outputs": [
    {
     "data": {
      "text/plain": [
       "array([[1, 2, 3, None],\n",
       "       [5, nan, 7, 8],\n",
       "       [None, 10, 11, 12],\n",
       "       [13, nan, 15, 16]], dtype=object)"
      ]
     },
     "execution_count": 11,
     "metadata": {},
     "output_type": "execute_result"
    }
   ],
   "source": [
    "# 결칙자료 대체\n",
    "x_miss = np.array([[1, 2, 3, None], [5, np.NaN, 7, 8], [None, 10, 11, 12], [13, np.nan, 15, 16]])\n",
    "x_miss"
   ]
  },
  {
   "cell_type": "code",
   "execution_count": 12,
   "id": "6320098a",
   "metadata": {},
   "outputs": [
    {
     "data": {
      "text/plain": [
       "array([[ 1.        ,  2.        ,  3.        , 12.        ],\n",
       "       [ 5.        ,  6.        ,  7.        ,  8.        ],\n",
       "       [ 6.33333333, 10.        , 11.        , 12.        ],\n",
       "       [13.        ,  6.        , 15.        , 16.        ]])"
      ]
     },
     "execution_count": 12,
     "metadata": {},
     "output_type": "execute_result"
    }
   ],
   "source": [
    "from sklearn.impute import SimpleImputer\n",
    "\n",
    "im = SimpleImputer(strategy='mean')\n",
    "im.fit_transform(x_miss)  # 열의 평균값으로 대체"
   ]
  },
  {
   "cell_type": "markdown",
   "id": "d47b7f9c",
   "metadata": {},
   "source": [
    "---"
   ]
  },
  {
   "cell_type": "code",
   "execution_count": 13,
   "id": "49969e56",
   "metadata": {},
   "outputs": [
    {
     "data": {
      "text/plain": [
       "array([2., 5., 1., 6.])"
      ]
     },
     "execution_count": 13,
     "metadata": {},
     "output_type": "execute_result"
    }
   ],
   "source": [
    "# pipeline library를 이용한 결측 자료 대체 및 특성변수 생성\n",
    "import pandas as pd\n",
    "from sklearn.pipeline import make_pipeline\n",
    "from sklearn.linear_model import LinearRegression\n",
    "from sklearn.preprocessing import PolynomialFeatures\n",
    "from sklearn.impute import SimpleImputer\n",
    "\n",
    "y = pd.Series([2, 5, 1, 6])\n",
    "\n",
    "model = make_pipeline(SimpleImputer(strategy='mean'), \n",
    "                      PolynomialFeatures(degree=2),\n",
    "                      LinearRegression())\n",
    "model.fit(x_miss, y)\n",
    "model.predict(x_miss)  # 이 자료에서는 관측치는 4개, 특성변수 14개로 완전 적합됨"
   ]
  },
  {
   "cell_type": "markdown",
   "id": "844a97df",
   "metadata": {},
   "source": [
    "## 2.2. 자료의 특성"
   ]
  },
  {
   "cell_type": "markdown",
   "id": "c48085ed",
   "metadata": {},
   "source": [
    "## 2.3. 사례분석\n",
    "\n",
    "* [rossmann-store-sales](https://www.kaggle.com/c/rossmann-store-sales/data)"
   ]
  },
  {
   "cell_type": "code",
   "execution_count": 14,
   "id": "f9cfae31",
   "metadata": {},
   "outputs": [
    {
     "data": {
      "text/plain": [
       "(1017209, 9)"
      ]
     },
     "execution_count": 14,
     "metadata": {},
     "output_type": "execute_result"
    }
   ],
   "source": [
    "import pandas as pd\n",
    "\n",
    "df1 = pd.read_csv('./rossmann-store-sales/train.csv', engine='python')\n",
    "df1.shape"
   ]
  },
  {
   "cell_type": "code",
   "execution_count": 15,
   "id": "55674daf",
   "metadata": {},
   "outputs": [
    {
     "data": {
      "text/html": [
       "<div>\n",
       "<style scoped>\n",
       "    .dataframe tbody tr th:only-of-type {\n",
       "        vertical-align: middle;\n",
       "    }\n",
       "\n",
       "    .dataframe tbody tr th {\n",
       "        vertical-align: top;\n",
       "    }\n",
       "\n",
       "    .dataframe thead th {\n",
       "        text-align: right;\n",
       "    }\n",
       "</style>\n",
       "<table border=\"1\" class=\"dataframe\">\n",
       "  <thead>\n",
       "    <tr style=\"text-align: right;\">\n",
       "      <th></th>\n",
       "      <th>Store</th>\n",
       "      <th>DayOfWeek</th>\n",
       "      <th>Date</th>\n",
       "      <th>Sales</th>\n",
       "      <th>Customers</th>\n",
       "      <th>Open</th>\n",
       "      <th>Promo</th>\n",
       "      <th>StateHoliday</th>\n",
       "      <th>SchoolHoliday</th>\n",
       "    </tr>\n",
       "  </thead>\n",
       "  <tbody>\n",
       "    <tr>\n",
       "      <th>0</th>\n",
       "      <td>1</td>\n",
       "      <td>5</td>\n",
       "      <td>2015-07-31</td>\n",
       "      <td>5263</td>\n",
       "      <td>555</td>\n",
       "      <td>1</td>\n",
       "      <td>1</td>\n",
       "      <td>0</td>\n",
       "      <td>1</td>\n",
       "    </tr>\n",
       "    <tr>\n",
       "      <th>1</th>\n",
       "      <td>2</td>\n",
       "      <td>5</td>\n",
       "      <td>2015-07-31</td>\n",
       "      <td>6064</td>\n",
       "      <td>625</td>\n",
       "      <td>1</td>\n",
       "      <td>1</td>\n",
       "      <td>0</td>\n",
       "      <td>1</td>\n",
       "    </tr>\n",
       "    <tr>\n",
       "      <th>2</th>\n",
       "      <td>3</td>\n",
       "      <td>5</td>\n",
       "      <td>2015-07-31</td>\n",
       "      <td>8314</td>\n",
       "      <td>821</td>\n",
       "      <td>1</td>\n",
       "      <td>1</td>\n",
       "      <td>0</td>\n",
       "      <td>1</td>\n",
       "    </tr>\n",
       "    <tr>\n",
       "      <th>3</th>\n",
       "      <td>4</td>\n",
       "      <td>5</td>\n",
       "      <td>2015-07-31</td>\n",
       "      <td>13995</td>\n",
       "      <td>1498</td>\n",
       "      <td>1</td>\n",
       "      <td>1</td>\n",
       "      <td>0</td>\n",
       "      <td>1</td>\n",
       "    </tr>\n",
       "    <tr>\n",
       "      <th>4</th>\n",
       "      <td>5</td>\n",
       "      <td>5</td>\n",
       "      <td>2015-07-31</td>\n",
       "      <td>4822</td>\n",
       "      <td>559</td>\n",
       "      <td>1</td>\n",
       "      <td>1</td>\n",
       "      <td>0</td>\n",
       "      <td>1</td>\n",
       "    </tr>\n",
       "  </tbody>\n",
       "</table>\n",
       "</div>"
      ],
      "text/plain": [
       "   Store  DayOfWeek        Date  Sales  Customers  Open  Promo StateHoliday  \\\n",
       "0      1          5  2015-07-31   5263        555     1      1            0   \n",
       "1      2          5  2015-07-31   6064        625     1      1            0   \n",
       "2      3          5  2015-07-31   8314        821     1      1            0   \n",
       "3      4          5  2015-07-31  13995       1498     1      1            0   \n",
       "4      5          5  2015-07-31   4822        559     1      1            0   \n",
       "\n",
       "   SchoolHoliday  \n",
       "0              1  \n",
       "1              1  \n",
       "2              1  \n",
       "3              1  \n",
       "4              1  "
      ]
     },
     "execution_count": 15,
     "metadata": {},
     "output_type": "execute_result"
    }
   ],
   "source": [
    "df1.head()"
   ]
  },
  {
   "cell_type": "code",
   "execution_count": 16,
   "id": "0d972177",
   "metadata": {},
   "outputs": [
    {
     "data": {
      "text/plain": [
       "(1115, 10)"
      ]
     },
     "execution_count": 16,
     "metadata": {},
     "output_type": "execute_result"
    }
   ],
   "source": [
    "df2 = pd.read_csv('./rossmann-store-sales/store.csv', engine='python')\n",
    "df2.shape"
   ]
  },
  {
   "cell_type": "code",
   "execution_count": 17,
   "id": "cc0d875a",
   "metadata": {},
   "outputs": [
    {
     "data": {
      "text/html": [
       "<div>\n",
       "<style scoped>\n",
       "    .dataframe tbody tr th:only-of-type {\n",
       "        vertical-align: middle;\n",
       "    }\n",
       "\n",
       "    .dataframe tbody tr th {\n",
       "        vertical-align: top;\n",
       "    }\n",
       "\n",
       "    .dataframe thead th {\n",
       "        text-align: right;\n",
       "    }\n",
       "</style>\n",
       "<table border=\"1\" class=\"dataframe\">\n",
       "  <thead>\n",
       "    <tr style=\"text-align: right;\">\n",
       "      <th></th>\n",
       "      <th>Store</th>\n",
       "      <th>StoreType</th>\n",
       "      <th>Assortment</th>\n",
       "      <th>CompetitionDistance</th>\n",
       "      <th>CompetitionOpenSinceMonth</th>\n",
       "      <th>CompetitionOpenSinceYear</th>\n",
       "      <th>Promo2</th>\n",
       "      <th>Promo2SinceWeek</th>\n",
       "      <th>Promo2SinceYear</th>\n",
       "      <th>PromoInterval</th>\n",
       "    </tr>\n",
       "  </thead>\n",
       "  <tbody>\n",
       "    <tr>\n",
       "      <th>0</th>\n",
       "      <td>1</td>\n",
       "      <td>c</td>\n",
       "      <td>a</td>\n",
       "      <td>1270.0</td>\n",
       "      <td>9.0</td>\n",
       "      <td>2008.0</td>\n",
       "      <td>0</td>\n",
       "      <td>NaN</td>\n",
       "      <td>NaN</td>\n",
       "      <td>NaN</td>\n",
       "    </tr>\n",
       "    <tr>\n",
       "      <th>1</th>\n",
       "      <td>2</td>\n",
       "      <td>a</td>\n",
       "      <td>a</td>\n",
       "      <td>570.0</td>\n",
       "      <td>11.0</td>\n",
       "      <td>2007.0</td>\n",
       "      <td>1</td>\n",
       "      <td>13.0</td>\n",
       "      <td>2010.0</td>\n",
       "      <td>Jan,Apr,Jul,Oct</td>\n",
       "    </tr>\n",
       "    <tr>\n",
       "      <th>2</th>\n",
       "      <td>3</td>\n",
       "      <td>a</td>\n",
       "      <td>a</td>\n",
       "      <td>14130.0</td>\n",
       "      <td>12.0</td>\n",
       "      <td>2006.0</td>\n",
       "      <td>1</td>\n",
       "      <td>14.0</td>\n",
       "      <td>2011.0</td>\n",
       "      <td>Jan,Apr,Jul,Oct</td>\n",
       "    </tr>\n",
       "    <tr>\n",
       "      <th>3</th>\n",
       "      <td>4</td>\n",
       "      <td>c</td>\n",
       "      <td>c</td>\n",
       "      <td>620.0</td>\n",
       "      <td>9.0</td>\n",
       "      <td>2009.0</td>\n",
       "      <td>0</td>\n",
       "      <td>NaN</td>\n",
       "      <td>NaN</td>\n",
       "      <td>NaN</td>\n",
       "    </tr>\n",
       "    <tr>\n",
       "      <th>4</th>\n",
       "      <td>5</td>\n",
       "      <td>a</td>\n",
       "      <td>a</td>\n",
       "      <td>29910.0</td>\n",
       "      <td>4.0</td>\n",
       "      <td>2015.0</td>\n",
       "      <td>0</td>\n",
       "      <td>NaN</td>\n",
       "      <td>NaN</td>\n",
       "      <td>NaN</td>\n",
       "    </tr>\n",
       "  </tbody>\n",
       "</table>\n",
       "</div>"
      ],
      "text/plain": [
       "   Store StoreType Assortment  CompetitionDistance  CompetitionOpenSinceMonth  \\\n",
       "0      1         c          a               1270.0                        9.0   \n",
       "1      2         a          a                570.0                       11.0   \n",
       "2      3         a          a              14130.0                       12.0   \n",
       "3      4         c          c                620.0                        9.0   \n",
       "4      5         a          a              29910.0                        4.0   \n",
       "\n",
       "   CompetitionOpenSinceYear  Promo2  Promo2SinceWeek  Promo2SinceYear  \\\n",
       "0                    2008.0       0              NaN              NaN   \n",
       "1                    2007.0       1             13.0           2010.0   \n",
       "2                    2006.0       1             14.0           2011.0   \n",
       "3                    2009.0       0              NaN              NaN   \n",
       "4                    2015.0       0              NaN              NaN   \n",
       "\n",
       "     PromoInterval  \n",
       "0              NaN  \n",
       "1  Jan,Apr,Jul,Oct  \n",
       "2  Jan,Apr,Jul,Oct  \n",
       "3              NaN  \n",
       "4              NaN  "
      ]
     },
     "execution_count": 17,
     "metadata": {},
     "output_type": "execute_result"
    }
   ],
   "source": [
    "df2.head()"
   ]
  },
  {
   "cell_type": "code",
   "execution_count": 18,
   "id": "ef043362",
   "metadata": {},
   "outputs": [
    {
     "data": {
      "text/plain": [
       "(1017209, 18)"
      ]
     },
     "execution_count": 18,
     "metadata": {},
     "output_type": "execute_result"
    }
   ],
   "source": [
    "df = pd.merge(df1, df2, on='Store')\n",
    "df.shape"
   ]
  },
  {
   "cell_type": "code",
   "execution_count": 19,
   "id": "79028e00",
   "metadata": {},
   "outputs": [
    {
     "data": {
      "text/plain": [
       "Store                          int64\n",
       "DayOfWeek                      int64\n",
       "Date                          object\n",
       "Sales                          int64\n",
       "Customers                      int64\n",
       "Open                           int64\n",
       "Promo                          int64\n",
       "StateHoliday                  object\n",
       "SchoolHoliday                  int64\n",
       "StoreType                     object\n",
       "Assortment                    object\n",
       "CompetitionDistance          float64\n",
       "CompetitionOpenSinceMonth    float64\n",
       "CompetitionOpenSinceYear     float64\n",
       "Promo2                         int64\n",
       "Promo2SinceWeek              float64\n",
       "Promo2SinceYear              float64\n",
       "PromoInterval                 object\n",
       "dtype: object"
      ]
     },
     "execution_count": 19,
     "metadata": {},
     "output_type": "execute_result"
    }
   ],
   "source": [
    "df.dtypes"
   ]
  },
  {
   "cell_type": "code",
   "execution_count": 20,
   "id": "881f8e0f",
   "metadata": {},
   "outputs": [
    {
     "name": "stdout",
     "output_type": "stream",
     "text": [
      "1115\n",
      "942\n",
      "4    145845\n",
      "5    145845\n",
      "3    145665\n",
      "2    145664\n",
      "1    144730\n",
      "6    144730\n",
      "7    144730\n",
      "Name: DayOfWeek, dtype: int64\n"
     ]
    }
   ],
   "source": [
    "print(len(df['Store'].unique()))\n",
    "print(len(df['Date'].unique()))\n",
    "print(df['DayOfWeek'].value_counts())"
   ]
  },
  {
   "cell_type": "code",
   "execution_count": 21,
   "id": "5e3ff9fd",
   "metadata": {},
   "outputs": [],
   "source": [
    "import numpy as np\n",
    "\n",
    "df['Date'] = pd.to_datetime(df['Date'], infer_datetime_format=True)"
   ]
  },
  {
   "cell_type": "code",
   "execution_count": 22,
   "id": "dbe4ee53",
   "metadata": {},
   "outputs": [
    {
     "name": "stdout",
     "output_type": "stream",
     "text": [
      "        Date  Year  Month  Day  Week  Quarter  Season\n",
      "0 2015-07-31  2015      7   31    31        3  Summer\n",
      "1 2015-07-30  2015      7   30    31        3  Summer\n",
      "2 2015-07-29  2015      7   29    31        3  Summer\n",
      "3 2015-07-28  2015      7   28    31        3  Summer\n",
      "4 2015-07-27  2015      7   27    31        3  Summer\n"
     ]
    }
   ],
   "source": [
    "df['Month'] = df['Date'].dt.month\n",
    "df['Quarter'] = df['Date'].dt.quarter\n",
    "df['Year'] = df['Date'].dt.year\n",
    "df['Day'] = df['Date'].dt.day\n",
    "df['Week'] = df['Date'].dt.isocalendar().week\n",
    "df['Season'] = np.where(df['Month'].isin([3, 4, 5]), 'Spring',\n",
    "                       np.where(df['Month'].isin([6, 7, 8]), 'Summer',\n",
    "                               np.where(df['Month'].isin([9, 10, 11]), 'fall',\n",
    "                                       np.where(df['Month'].isin([12, 1, 2]), 'Winter', None))))\n",
    "\n",
    "print(df[['Date', 'Year', 'Month', 'Day', 'Week', 'Quarter', 'Season']].head())"
   ]
  },
  {
   "cell_type": "code",
   "execution_count": 23,
   "id": "7f6f958d",
   "metadata": {},
   "outputs": [
    {
     "data": {
      "text/plain": [
       "array([[<AxesSubplot:title={'center':'Store'}>,\n",
       "        <AxesSubplot:title={'center':'DayOfWeek'}>,\n",
       "        <AxesSubplot:title={'center':'Date'}>,\n",
       "        <AxesSubplot:title={'center':'Sales'}>],\n",
       "       [<AxesSubplot:title={'center':'Customers'}>,\n",
       "        <AxesSubplot:title={'center':'Open'}>,\n",
       "        <AxesSubplot:title={'center':'Promo'}>,\n",
       "        <AxesSubplot:title={'center':'SchoolHoliday'}>],\n",
       "       [<AxesSubplot:title={'center':'CompetitionDistance'}>,\n",
       "        <AxesSubplot:title={'center':'CompetitionOpenSinceMonth'}>,\n",
       "        <AxesSubplot:title={'center':'CompetitionOpenSinceYear'}>,\n",
       "        <AxesSubplot:title={'center':'Promo2'}>],\n",
       "       [<AxesSubplot:title={'center':'Promo2SinceWeek'}>,\n",
       "        <AxesSubplot:title={'center':'Promo2SinceYear'}>,\n",
       "        <AxesSubplot:title={'center':'Month'}>,\n",
       "        <AxesSubplot:title={'center':'Quarter'}>],\n",
       "       [<AxesSubplot:title={'center':'Year'}>,\n",
       "        <AxesSubplot:title={'center':'Day'}>,\n",
       "        <AxesSubplot:title={'center':'Week'}>, <AxesSubplot:>]],\n",
       "      dtype=object)"
      ]
     },
     "execution_count": 23,
     "metadata": {},
     "output_type": "execute_result"
    },
    {
     "data": {
      "image/png": "[encoded data removed]",
      "text/plain": [
       "<Figure size 1440x1080 with 20 Axes>"
      ]
     },
     "metadata": {
      "needs_background": "light"
     },
     "output_type": "display_data"
    }
   ],
   "source": [
    "df.hist(figsize=(20, 15))"
   ]
  },
  {
   "cell_type": "code",
   "execution_count": 24,
   "id": "ab8ba970",
   "metadata": {},
   "outputs": [
    {
     "data": {
      "text/plain": [
       "Store                         0.000000\n",
       "DayOfWeek                     0.000000\n",
       "Date                          0.000000\n",
       "Sales                         0.000000\n",
       "Customers                     0.000000\n",
       "Open                          0.000000\n",
       "Promo                         0.000000\n",
       "StateHoliday                  0.000000\n",
       "SchoolHoliday                 0.000000\n",
       "StoreType                     0.000000\n",
       "Assortment                    0.000000\n",
       "CompetitionDistance           0.259730\n",
       "CompetitionOpenSinceMonth    31.787764\n",
       "CompetitionOpenSinceYear     31.787764\n",
       "Promo2                        0.000000\n",
       "Promo2SinceWeek              49.943620\n",
       "Promo2SinceYear              49.943620\n",
       "PromoInterval                49.943620\n",
       "Month                         0.000000\n",
       "Quarter                       0.000000\n",
       "Year                          0.000000\n",
       "Day                           0.000000\n",
       "Week                          0.000000\n",
       "Season                        0.000000\n",
       "dtype: float64"
      ]
     },
     "execution_count": 24,
     "metadata": {},
     "output_type": "execute_result"
    }
   ],
   "source": [
    "df.isnull().sum() / df.shape[0] * 100"
   ]
  },
  {
   "cell_type": "code",
   "execution_count": 26,
   "id": "c2f388df",
   "metadata": {},
   "outputs": [
    {
     "data": {
      "text/plain": [
       "0"
      ]
     },
     "execution_count": 26,
     "metadata": {},
     "output_type": "execute_result"
    }
   ],
   "source": [
    "df['CompetitionDistance'] = df['CompetitionDistance'].fillna(df['CompetitionDistance'].mode)\n",
    "df['CompetitionDistance'].isnull().sum()"
   ]
  },
  {
   "cell_type": "code",
   "execution_count": 27,
   "id": "191af4f8",
   "metadata": {},
   "outputs": [],
   "source": [
    "from sklearn.preprocessing import LabelEncoder, OneHotEncoder\n",
    "\n",
    "n_columns = ['Customers', 'Open', 'Promo', 'Promo2', 'StateHoliday', 'SchoolHoliday', 'CompetitionDistance']\n",
    "categ_columns = ['DayOfWeek', 'Quarter', 'Month', 'Year', 'StoreType', 'Assortment', 'Season']"
   ]
  },
  {
   "cell_type": "code",
   "execution_count": 29,
   "id": "d50394c8",
   "metadata": {},
   "outputs": [],
   "source": [
    "def dummy(data, col):\n",
    "    lab = LabelEncoder()\n",
    "    aa = lab.fit_transform(data[col]).reshape(-1, 1)\n",
    "    \n",
    "    ohe = OneHotEncoder(sparse=False)\n",
    "    column_names = [col + '_' + str(i) for i in lab.classes_]\n",
    "    \n",
    "    return pd.DataFrame(ohe.fit_transform(aa), columns=column_names)"
   ]
  },
  {
   "cell_type": "code",
   "execution_count": 30,
   "id": "a26382f2",
   "metadata": {},
   "outputs": [
    {
     "data": {
      "text/html": [
       "<div>\n",
       "<style scoped>\n",
       "    .dataframe tbody tr th:only-of-type {\n",
       "        vertical-align: middle;\n",
       "    }\n",
       "\n",
       "    .dataframe tbody tr th {\n",
       "        vertical-align: top;\n",
       "    }\n",
       "\n",
       "    .dataframe thead th {\n",
       "        text-align: right;\n",
       "    }\n",
       "</style>\n",
       "<table border=\"1\" class=\"dataframe\">\n",
       "  <thead>\n",
       "    <tr style=\"text-align: right;\">\n",
       "      <th></th>\n",
       "      <th>Customers</th>\n",
       "      <th>Open</th>\n",
       "      <th>Promo</th>\n",
       "      <th>Promo2</th>\n",
       "      <th>StateHoliday</th>\n",
       "      <th>SchoolHoliday</th>\n",
       "      <th>CompetitionDistance</th>\n",
       "      <th>DayOfWeek_1</th>\n",
       "      <th>DayOfWeek_2</th>\n",
       "      <th>DayOfWeek_3</th>\n",
       "      <th>...</th>\n",
       "      <th>StoreType_b</th>\n",
       "      <th>StoreType_c</th>\n",
       "      <th>StoreType_d</th>\n",
       "      <th>Assortment_a</th>\n",
       "      <th>Assortment_b</th>\n",
       "      <th>Assortment_c</th>\n",
       "      <th>Season_Spring</th>\n",
       "      <th>Season_Summer</th>\n",
       "      <th>Season_Winter</th>\n",
       "      <th>Season_fall</th>\n",
       "    </tr>\n",
       "  </thead>\n",
       "  <tbody>\n",
       "    <tr>\n",
       "      <th>0</th>\n",
       "      <td>555</td>\n",
       "      <td>1</td>\n",
       "      <td>1</td>\n",
       "      <td>0</td>\n",
       "      <td>0</td>\n",
       "      <td>1</td>\n",
       "      <td>1270.0</td>\n",
       "      <td>0.0</td>\n",
       "      <td>0.0</td>\n",
       "      <td>0.0</td>\n",
       "      <td>...</td>\n",
       "      <td>0.0</td>\n",
       "      <td>1.0</td>\n",
       "      <td>0.0</td>\n",
       "      <td>1.0</td>\n",
       "      <td>0.0</td>\n",
       "      <td>0.0</td>\n",
       "      <td>0.0</td>\n",
       "      <td>1.0</td>\n",
       "      <td>0.0</td>\n",
       "      <td>0.0</td>\n",
       "    </tr>\n",
       "    <tr>\n",
       "      <th>1</th>\n",
       "      <td>546</td>\n",
       "      <td>1</td>\n",
       "      <td>1</td>\n",
       "      <td>0</td>\n",
       "      <td>0</td>\n",
       "      <td>1</td>\n",
       "      <td>1270.0</td>\n",
       "      <td>0.0</td>\n",
       "      <td>0.0</td>\n",
       "      <td>0.0</td>\n",
       "      <td>...</td>\n",
       "      <td>0.0</td>\n",
       "      <td>1.0</td>\n",
       "      <td>0.0</td>\n",
       "      <td>1.0</td>\n",
       "      <td>0.0</td>\n",
       "      <td>0.0</td>\n",
       "      <td>0.0</td>\n",
       "      <td>1.0</td>\n",
       "      <td>0.0</td>\n",
       "      <td>0.0</td>\n",
       "    </tr>\n",
       "    <tr>\n",
       "      <th>2</th>\n",
       "      <td>523</td>\n",
       "      <td>1</td>\n",
       "      <td>1</td>\n",
       "      <td>0</td>\n",
       "      <td>0</td>\n",
       "      <td>1</td>\n",
       "      <td>1270.0</td>\n",
       "      <td>0.0</td>\n",
       "      <td>0.0</td>\n",
       "      <td>1.0</td>\n",
       "      <td>...</td>\n",
       "      <td>0.0</td>\n",
       "      <td>1.0</td>\n",
       "      <td>0.0</td>\n",
       "      <td>1.0</td>\n",
       "      <td>0.0</td>\n",
       "      <td>0.0</td>\n",
       "      <td>0.0</td>\n",
       "      <td>1.0</td>\n",
       "      <td>0.0</td>\n",
       "      <td>0.0</td>\n",
       "    </tr>\n",
       "    <tr>\n",
       "      <th>3</th>\n",
       "      <td>560</td>\n",
       "      <td>1</td>\n",
       "      <td>1</td>\n",
       "      <td>0</td>\n",
       "      <td>0</td>\n",
       "      <td>1</td>\n",
       "      <td>1270.0</td>\n",
       "      <td>0.0</td>\n",
       "      <td>1.0</td>\n",
       "      <td>0.0</td>\n",
       "      <td>...</td>\n",
       "      <td>0.0</td>\n",
       "      <td>1.0</td>\n",
       "      <td>0.0</td>\n",
       "      <td>1.0</td>\n",
       "      <td>0.0</td>\n",
       "      <td>0.0</td>\n",
       "      <td>0.0</td>\n",
       "      <td>1.0</td>\n",
       "      <td>0.0</td>\n",
       "      <td>0.0</td>\n",
       "    </tr>\n",
       "    <tr>\n",
       "      <th>4</th>\n",
       "      <td>612</td>\n",
       "      <td>1</td>\n",
       "      <td>1</td>\n",
       "      <td>0</td>\n",
       "      <td>0</td>\n",
       "      <td>1</td>\n",
       "      <td>1270.0</td>\n",
       "      <td>1.0</td>\n",
       "      <td>0.0</td>\n",
       "      <td>0.0</td>\n",
       "      <td>...</td>\n",
       "      <td>0.0</td>\n",
       "      <td>1.0</td>\n",
       "      <td>0.0</td>\n",
       "      <td>1.0</td>\n",
       "      <td>0.0</td>\n",
       "      <td>0.0</td>\n",
       "      <td>0.0</td>\n",
       "      <td>1.0</td>\n",
       "      <td>0.0</td>\n",
       "      <td>0.0</td>\n",
       "    </tr>\n",
       "  </tbody>\n",
       "</table>\n",
       "<p>5 rows × 44 columns</p>\n",
       "</div>"
      ],
      "text/plain": [
       "   Customers  Open  Promo  Promo2 StateHoliday  SchoolHoliday  \\\n",
       "0        555     1      1       0            0              1   \n",
       "1        546     1      1       0            0              1   \n",
       "2        523     1      1       0            0              1   \n",
       "3        560     1      1       0            0              1   \n",
       "4        612     1      1       0            0              1   \n",
       "\n",
       "  CompetitionDistance  DayOfWeek_1  DayOfWeek_2  DayOfWeek_3  ...  \\\n",
       "0              1270.0          0.0          0.0          0.0  ...   \n",
       "1              1270.0          0.0          0.0          0.0  ...   \n",
       "2              1270.0          0.0          0.0          1.0  ...   \n",
       "3              1270.0          0.0          1.0          0.0  ...   \n",
       "4              1270.0          1.0          0.0          0.0  ...   \n",
       "\n",
       "   StoreType_b  StoreType_c  StoreType_d  Assortment_a  Assortment_b  \\\n",
       "0          0.0          1.0          0.0           1.0           0.0   \n",
       "1          0.0          1.0          0.0           1.0           0.0   \n",
       "2          0.0          1.0          0.0           1.0           0.0   \n",
       "3          0.0          1.0          0.0           1.0           0.0   \n",
       "4          0.0          1.0          0.0           1.0           0.0   \n",
       "\n",
       "   Assortment_c  Season_Spring  Season_Summer  Season_Winter  Season_fall  \n",
       "0           0.0            0.0            1.0            0.0          0.0  \n",
       "1           0.0            0.0            1.0            0.0          0.0  \n",
       "2           0.0            0.0            1.0            0.0          0.0  \n",
       "3           0.0            0.0            1.0            0.0          0.0  \n",
       "4           0.0            0.0            1.0            0.0          0.0  \n",
       "\n",
       "[5 rows x 44 columns]"
      ]
     },
     "execution_count": 30,
     "metadata": {},
     "output_type": "execute_result"
    }
   ],
   "source": [
    "fdata = df[n_columns]\n",
    "for column in categ_columns:\n",
    "    temp_df = dummy(df, column)\n",
    "    fdata = pd.concat([fdata, temp_df], axis=1)\n",
    "    \n",
    "fdata.head()"
   ]
  },
  {
   "cell_type": "code",
   "execution_count": 31,
   "id": "4c2f91e4",
   "metadata": {},
   "outputs": [
    {
     "data": {
      "text/plain": [
       "(1017209, 44)"
      ]
     },
     "execution_count": 31,
     "metadata": {},
     "output_type": "execute_result"
    }
   ],
   "source": [
    "fdata.shape"
   ]
  },
  {
   "cell_type": "code",
   "execution_count": 32,
   "id": "0c15d8ac",
   "metadata": {},
   "outputs": [
    {
     "data": {
      "text/plain": [
       "array([dtype('int64'), dtype('O'), dtype('float64')], dtype=object)"
      ]
     },
     "execution_count": 32,
     "metadata": {},
     "output_type": "execute_result"
    }
   ],
   "source": [
    "fdata.dtypes.unique()"
   ]
  },
  {
   "cell_type": "code",
   "execution_count": 33,
   "id": "b3cda6f9",
   "metadata": {},
   "outputs": [
    {
     "data": {
      "text/plain": [
       "array(['0', 'a', 'b', 'c'], dtype=object)"
      ]
     },
     "execution_count": 33,
     "metadata": {},
     "output_type": "execute_result"
    }
   ],
   "source": [
    "fdata['StateHoliday'].unique()"
   ]
  },
  {
   "cell_type": "code",
   "execution_count": 34,
   "id": "2a2d5fd3",
   "metadata": {},
   "outputs": [],
   "source": [
    "fdata['StateHoliday'] = np.where(fdata['StateHoliday'] == '0', 0, 1)"
   ]
  },
  {
   "cell_type": "markdown",
   "id": "d8fc9bd2",
   "metadata": {},
   "source": [
    "## 2.4. 불균형 자료(imbalanced data)의 처리"
   ]
  },
  {
   "cell_type": "markdown",
   "id": "e1de032c",
   "metadata": {},
   "source": [
    "* SMOTE(synthetic minority oversampling technique)\n",
    "\n",
    "  $\\mathbf{x}_{syn} = \\mathbf{x}_i +\\lambda \\left( \\mathbf{x}_k - \\mathbf{x}_i \\right)$\n",
    "  \n",
    "  $~$\n",
    "* ADASYN(adaptive synthetic sampling method)"
   ]
  },
  {
   "cell_type": "code",
   "execution_count": 37,
   "id": "e0797f4f",
   "metadata": {},
   "outputs": [
    {
     "name": "stdout",
     "output_type": "stream",
     "text": [
      "Original dataset shape Counter({2: 1795, 1: 141, 0: 64})\n"
     ]
    }
   ],
   "source": [
    "# pip install imbalanced-learn or conda install -c conda-forge imbalanced-learn\n",
    "from collections import Counter\n",
    "from sklearn.datasets import make_classification\n",
    "\n",
    "X, y = make_classification(n_classes=3, \n",
    "                           weights=[0.03, 0.07, 0.9], \n",
    "                           n_features=10, \n",
    "                           n_clusters_per_class=1, \n",
    "                           n_samples=2000, \n",
    "                           random_state=10)\n",
    "print('Original dataset shape %s' % Counter(y))"
   ]
  },
  {
   "cell_type": "code",
   "execution_count": 38,
   "id": "442dc0f1",
   "metadata": {},
   "outputs": [
    {
     "name": "stdout",
     "output_type": "stream",
     "text": [
      "Resampled dataset shape Counter({2: 1795, 1: 1795, 0: 1795})\n"
     ]
    }
   ],
   "source": [
    "from imblearn.over_sampling import SMOTE, ADASYN\n",
    "\n",
    "sm = SMOTE(random_state=42)\n",
    "X_res, y_res = sm.fit_resample(X, y)\n",
    "print('Resampled dataset shape %s' % Counter(y_res))"
   ]
  },
  {
   "cell_type": "code",
   "execution_count": 39,
   "id": "cb50796d",
   "metadata": {},
   "outputs": [
    {
     "name": "stdout",
     "output_type": "stream",
     "text": [
      "Resampled dataset shape Counter({2: 1795, 1: 1795, 0: 1795})\n"
     ]
    }
   ],
   "source": [
    "ada = ADASYN(random_state=0)\n",
    "X_syn, y_syn = ada.fit_resample(X, y)\n",
    "print('Resampled dataset shape %s' % Counter(y_res))"
   ]
  },
  {
   "cell_type": "markdown",
   "id": "e1bd5b3c",
   "metadata": {},
   "source": [
    "## 2.5. 손실함수와 최적화(optimaization)"
   ]
  },
  {
   "cell_type": "markdown",
   "id": "93e825f5",
   "metadata": {},
   "source": [
    "* 평균제곱오차(mean squared error) - 회귀 문제일 때 일반적으로 사용\n",
    "\n",
    "  $\\displaystyle \\text{MSE} = \\frac{1}{n} \\sum_{i=1}^n \\left( y_i - \\hat{y}_i \\right)^2$\n",
    "  \n",
    "$~$\n",
    "\n",
    "* $i$번째 자료의 categorical cross entropy - 분류 문제일 때\n",
    "\n",
    "  $\\displaystyle \\text{CE}_i = -\\sum_{k=1}^c y_{ik} \\log q_i(k)$\n",
    "  \n",
    "  $~$\n",
    "\n",
    "  *  $i$번째 자료의 binary cross entropy\n",
    "  \n",
    "    $\\displaystyle \\text{CE}_i = -y_i \\log q_i - (1-y_i) \\log (1-q_i)$\n",
    "\n",
    "$~$\n",
    "\n",
    "* Categorical cross entropy\n",
    "\n",
    "  $\\displaystyle \\text{CE} = \\sum_{i=1}^n \\text{CE}_i = -\\sum_{i=1}^n \\sum_{k=1}^c y_{ik} \\log q_i(k)$\n",
    "  \n",
    "  $~$\n",
    "\n",
    "  *  Binary cross entropy\n",
    "  \n",
    "    $\\displaystyle \\text{BE} = \\sum_{i=1}^n \\text{CE}_i = -\\sum_{i=1}^n \\left[y_i \\log q_i + (1-y_i) \\log (1-q_i)\\right]$  "
   ]
  },
  {
   "cell_type": "markdown",
   "id": "f45aa580",
   "metadata": {},
   "source": [
    "---\n",
    "\\begin{align*}\n",
    " y_i &= h(\\mathbf{x}_i, \\mathbf{w}) +\\epsilon_i\\\\\n",
    " \\\\ \n",
    " &\\Big\\Downarrow \\;\\; \\epsilon = \\mathcal{N}(0, \\sigma^2)\\\\ \n",
    " \\\\\n",
    " L = \\prod_{i=1}^n \\frac{1}{\\sqrt{2\\pi\\sigma^2}} &\\exp \\left[-\\frac{\\left( y_i - h(\\mathbf{x}_i, \\mathbf{w}) \\right)^2}{2\\sigma^2} \\right] \\\\\n",
    " &\\Downarrow \\\\ \n",
    " \\log L = -\\frac{n}{2} \\log 2\\pi \\sigma^2 &-\\frac{1}{2\\sigma^2} \\sum_{i=1}^n \\left( y_i - h(\\mathbf{x}_i, \\mathbf{w}) \\right)^2\\\\ \n",
    " &\\Downarrow \\\\ \n",
    "  \\log L\\text{을 최대화하는 } \\mathbf{w}\\text{를 구하는 문제는 } &\\sum_{i=1}^n \\left( y_i - h(\\mathbf{x}_i, \\mathbf{w}) \\right)^2\\text{를 최소화하는 } \\mathbf{w}\\text{를 구하는 문제와 동일}\n",
    "\\end{align*}"
   ]
  },
  {
   "cell_type": "markdown",
   "id": "e9c8f058",
   "metadata": {},
   "source": [
    "---\n",
    "\\begin{align*}\n",
    " i\\text{번째 관측치가 클래스 } &k\\text{소속으로 관측될 확률} \\\\ \n",
    " \\prod_{k=1}^c &q_i(k)^{y_{ik}} \\\\ \n",
    " \\text{모든 }n\\text{개의 관측치에 }&\\text{대한 우도(likelihood)} \\\\ \n",
    " L = \\prod_{i=1}^n &\\prod_{k=1}^c q_i(k)^{y_{ik}} \\\\ \n",
    " \\Downarrow& \\\\\n",
    " \\log L = \\sum_{i=1}^n &\\sum_{k=1}^c y_{ik} \\log q_i(k)\n",
    "\\end{align*}"
   ]
  },
  {
   "cell_type": "markdown",
   "id": "54994d09",
   "metadata": {},
   "source": [
    "---\n",
    "\n",
    "\\begin{align*}\n",
    " q_i(k) &= \\frac{ \\exp \\left( \\mathbf{w}_k^T \\mathbf{x}_i \\right)}{\\sum_{j=1}^c \\exp \\left( \\mathbf{w}_j^T \\mathbf{x}_i \\right)}\\\\ \n",
    " \\;\\\\\n",
    " &\\;\\;\\;\\;\\;\\; \\Updownarrow \\\\ \n",
    " q_i &= \\frac{1}{1 + \\exp\\left( -\\mathbf{w}^T \\mathbf{x}_i \\right)},\\;\\;\\;\\; \\text{binary case} \\\\ \n",
    "\\end{align*}"
   ]
  },
  {
   "cell_type": "markdown",
   "id": "f27472f1",
   "metadata": {},
   "source": [
    "---\n",
    "\n",
    "\\begin{align*}\n",
    " \\text{베르누이 시도에서 1이 나올 확률 } \\mu \\text{와 0이} & \\text{나올 확률 } 1−\\mu \\text{의 비율(ratio)인 승산비(odds ratio)}\\\\ \n",
    " \\\\ \n",
    " \\text{odds ratio} &= \\frac{\\mu}{1 - \\mu} \\\\\n",
    " &\\Downarrow \\\\ \n",
    " \\text{승산비를 로그 변환한 } & \\text{것이 로지트 함수(Logit function)} \\\\\n",
    "  \\\\ \n",
    "z = \\text{logit(odds ratio)} &= \\log \\left( \\frac{\\mu}{1 - \\mu} \\right) \\\\\n",
    " &\\Downarrow \\\\ \n",
    " \\text{로지스틱 함수(Logistic function)} &\\text{는 로지트 함수의 역함수} \\\\\n",
    " \\\\\n",
    " \\text{logistic}(z) = \\mu & (z) = \\frac{1}{1 + \\exp(-z)}  \\\\\n",
    "\\end{align*}"
   ]
  },
  {
   "cell_type": "markdown",
   "id": "6ce501c0",
   "metadata": {},
   "source": [
    "---\n",
    "\n",
    "\\begin{align*}\n",
    " \\text{베르누이 분포의}& \\text{ 확률밀도함수}\\\\ \n",
    " p(y\\, |\\, \\mathbf{x}_i)&= \\mu(\\mathbf{x}_i ; \\mathbf{w})^y_i \\left(1 -  \\mu(\\mathbf{x}_i ; \\mathbf{w}) \\right)^{1-y_i}\\\\ \n",
    " &\\Downarrow \\\\\n",
    " \\log L = \\log \\prod_{i=1}^n &\\mu(\\mathbf{x}_i ; \\mathbf{w})^{y_i} \\left(1 -  \\mu(\\mathbf{x}_i ; \\mathbf{w}) \\right)^{1-y_i} \\\\ \n",
    " = \\sum_{i=1}^n \\left[ y_i \\right.& \\left.\\log \\mu(\\mathbf{x}_i ; \\mathbf{w}) + (1-y_i) \\log\\left(1 -  \\mu(\\mathbf{x}_i ; \\mathbf{w}) \\right) \\right]\\\\ \n",
    " &\\Downarrow \\\\\n",
    "\\frac{\\partial \\log L}{\\partial \\mathbf{w}} =\\sum_{i=1}^n &\\left(y_i - \\mu(\\mathbf{x}_i ; \\mathbf{w}) \\right) \\mathbf{x}_i \\\\\n",
    " &\\Downarrow \\\\\n",
    "\\mathbf{w}^{(t+1)} = \\mathbf{w}^{(t)} &- \\eta \\frac{\\partial \\log L}{\\partial \\mathbf{w}}\n",
    "\\end{align*}"
   ]
  },
  {
   "cell_type": "markdown",
   "id": "b0cd2635",
   "metadata": {},
   "source": [
    "---\n",
    "\\begin{align*}\n",
    " \\frac{\\partial \\,\\textit{l}\\,(\\mathbf{w})}{\\partial \\mathbf{w}} &= \\mathbf{0} \\\\ \n",
    " &\\Downarrow \\\\ \n",
    " \\textit{l} \\left( \\mathbf{w}^{(t+1)} \\right) &\\simeq  \\textit{l} \\left( \\mathbf{w}^{(t)} \\right) \n",
    " +\\left[ \\frac{\\partial \\textit{l} \\left( \\mathbf{w}^{(t)}\\right) }{\\partial \\mathbf{w}^{(t)}} \\right]^T \\left( \\mathbf{w}^{(t+1)} - \\mathbf{w}^{(t)} \\right)\n",
    "  \\\\ \n",
    " &\\big\\Downarrow \\;\\; \\textit{l} \\left(\\mathbf{w}^{(t+1)} \\right) < \\textit{l} \\left(\\mathbf{w}^{(t)} \\right)\\\\ \n",
    "  \\\\\n",
    "\\left[ \\frac{\\partial \\textit{l} \\left( \\mathbf{w}^{(t)}\\right) }{\\partial \\mathbf{w}^{(t)}} \\right]^T & \\left( \\mathbf{w}^{(t+1)} - \\mathbf{w}^{(t)} \\right) < 0 \\\\\n",
    " &\\big\\Downarrow \\text{ 차이가 가장 크기 위해서는 }\\\\\n",
    " \\\\\n",
    " \\mathbf{w}^{(t+1)} - \\mathbf{w}^{(t)} \\propto & \\; - \\frac{\\partial \\textit{l} \\left( \\mathbf{w}^{(t)}\\right) }{\\partial \\mathbf{w}^{(t)}}\\\\\n",
    " &\\Downarrow \\\\\n",
    "\\mathbf{w}^{(t+1)} = \\mathbf{w}^{(t)} &- \\eta\\frac{\\partial \\textit{l} \\left( \\mathbf{w}^{(t)}\\right) }{\\partial \\mathbf{w}^{(t)}}\n",
    " \\end{align*}"
   ]
  },
  {
   "cell_type": "markdown",
   "id": "9444ee16",
   "metadata": {},
   "source": [
    "---\n",
    "\\begin{align*}\n",
    " \\frac{\\partial \\,\\textit{l}\\,(\\mathbf{w}^{(t+1)})}{\\partial \\eta} &= \\left[ \\frac{\\partial \\,\\textit{l}\\,(\\mathbf{w}^{(t+1)})}{\\partial\\mathbf{w}^{(t+1)}} \\right]^T \\frac{\\partial \\mathbf{w}^{(t+1)} }{\\partial \\eta}  \n",
    " = -\\left[ \\frac{\\partial \\,\\textit{l}\\,(\\mathbf{w}^{(t+1)})}{\\partial\\mathbf{w}^{(t+1)}} \\right]^T \n",
    " \\frac{\\partial \\,\\textit{l}\\,(\\mathbf{w}^{(t)})}{\\partial\\mathbf{w}^{(t)}} = 0 \\\\ \n",
    " \\\\\n",
    " \\text{and} \\\\\n",
    " \\mathbf{w}^{(t+2)} -\\mathbf{w}^{(t+1)} &\\propto -\\frac{\\partial \\,\\textit{l}\\,(\\mathbf{w}^{(t+1)})}{\\partial\\mathbf{w}^{(t+1)}} \\\\ \n",
    " \\mathbf{w}^{(t+1)} -\\mathbf{w}^{(t)}&\\propto -\\frac{\\partial \\,\\textit{l}\\,(\\mathbf{w}^{(t)})}{\\partial\\mathbf{w}^{(t)}} \\\\ \n",
    " \\Downarrow \\\\\n",
    " \\left(\\mathbf{w}^{(t+2)} -\\mathbf{w}^{(t+1)}\\right) &\\perp \\left(\\mathbf{w}^{(t+1)} -\\mathbf{w}^{(t)}\\right)\n",
    "\\end{align*}\n"
   ]
  },
  {
   "cell_type": "markdown",
   "id": "2ec7050b",
   "metadata": {},
   "source": [
    "### 제약 조건이 있는 손실함수 최적화 - 라그랑지 승수법(Lagrange multiplier)"
   ]
  },
  {
   "cell_type": "markdown",
   "id": "7d1a6029",
   "metadata": {},
   "source": [
    "$$LM(\\mathbf{w}, \\boldsymbol{\\lambda}, \\boldsymbol{\\beta}) = \\mathit{l}(\\mathbf{w}) +\\sum_{i=1}^l \\lambda_i e_i(\\mathbf{w}) +\\sum_{j=1}^m \\beta_j g_j(\\mathbf{w})$$"
   ]
  },
  {
   "cell_type": "markdown",
   "id": "54752151",
   "metadata": {},
   "source": [
    "* $\\displaystyle\\frac{\\partial }{\\partial \\mathbf{w}}LM(\\mathbf{w}, \\boldsymbol{\\lambda}, \\boldsymbol{\\beta}) = \\frac{\\partial }{\\partial \\mathbf{w}}\\mathit{l}(\\mathbf{w}) +\\sum_{i=1}^l \\lambda_i \\frac{\\partial }{\\partial \\mathbf{w}} e_i(\\mathbf{w}) +\\sum_{j=1}^m \\beta_j \\frac{\\partial }{\\partial \\mathbf{w}}g_j(\\mathbf{w}) =\\mathbf{0}$ \n",
    "\n",
    "* $\\displaystyle\\frac{\\partial }{\\partial \\boldsymbol{\\lambda}}LM(\\mathbf{w}, \\boldsymbol{\\lambda}, \\boldsymbol{\\beta}) = \\mathbf{0}$, $~$즉 $e_i = 0, \\;\\;i=1,\\cdots, l$\n",
    "\n",
    "\n",
    "* 모든 $j=1,\\cdots, m\\,$에 대해, $~$$\\beta_j g_j(\\mathbf{w}) =0 \\,\\rightarrow \\, g_j(\\mathbf{w}) < 0, \\;\\; \\beta_j \\geq 0$ $~$"
   ]
  }
 ],
 "metadata": {
  "kernelspec": {
   "display_name": "Python 3",
   "language": "python",
   "name": "python3"
  },
  "language_info": {
   "codemirror_mode": {
    "name": "ipython",
    "version": 3
   },
   "file_extension": ".py",
   "mimetype": "text/x-python",
   "name": "python",
   "nbconvert_exporter": "python",
   "pygments_lexer": "ipython3",
   "version": "3.9.4"
  }
 },
 "nbformat": 4,
 "nbformat_minor": 5
}
