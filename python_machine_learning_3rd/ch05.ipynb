{
 "cells": [
  {
   "cell_type": "code",
   "execution_count": 1,
   "id": "cddc610c",
   "metadata": {},
   "outputs": [],
   "source": [
    "from IPython.display import Image"
   ]
  },
  {
   "cell_type": "markdown",
   "id": "ac445aeb",
   "metadata": {},
   "source": [
    "# 5장 차원 축소를 사용한 데이터 압축"
   ]
  },
  {
   "cell_type": "markdown",
   "id": "bd522355",
   "metadata": {},
   "source": [
    "* 주성분 분석(Principal Component Analysis, PCA)\n",
    "* 선형 판별 분석(Linear Discreminant Analysis, LDA)\n",
    "* 커널 PCA"
   ]
  },
  {
   "cell_type": "markdown",
   "id": "f69bb572",
   "metadata": {},
   "source": [
    "## 5.1 주성분 분석을 통한 비지도 차원 축소 "
   ]
  },
  {
   "cell_type": "code",
   "execution_count": 2,
   "id": "cccd07a4",
   "metadata": {},
   "outputs": [
    {
     "data": {
      "text/html": [
       "<img src=\"https://git.io/JtsvW\" width=\"400\"/>"
      ],
      "text/plain": [
       "<IPython.core.display.Image object>"
      ]
     },
     "execution_count": 2,
     "metadata": {},
     "output_type": "execute_result"
    }
   ],
   "source": [
    "Image(url='https://git.io/JtsvW', width=400) "
   ]
  },
  {
   "cell_type": "markdown",
   "id": "ced3811c",
   "metadata": {},
   "source": [
    "$$\\mathbf{x}\\mathbf{W}=\\mathbf{z}, \\;\\;\\mathbf{W} \\in \\mathbb{R}^{d\\times k}$$\n",
    "\n",
    "1. $d$ 차원 데이터셋을 표준화 전처리\n",
    "1. 공분산 행렬(covariance matrix) 만들기\n",
    "1. 공분산 행렬의 고유 백터와 고윳값 구하기\n",
    "1. 고윳값을 내림차순으로 정렬, 고유백터도 마찬가지로 정렬\n",
    "1. 고윳값 크기 순서로 $k$개의 해당하는 고유 백터 선택\n",
    "1. 최상위 $k$의 고유 백터로 투영 행렬(projection matrix) $\\mathbf{W}$ 구성\n",
    "1. 투영 행렬 $\\mathbf{W}$를 사용해서 $d$ 차원 입력 데이터셋 $\\mathbf{X}$를 새로운 차원의 특성 부분공간 $\\mathbf{Z}$으로 변환"
   ]
  },
  {
   "cell_type": "markdown",
   "id": "4704b56d",
   "metadata": {},
   "source": [
    "### 주성분 추출 단계 "
   ]
  },
  {
   "cell_type": "code",
   "execution_count": 3,
   "id": "8170793d",
   "metadata": {},
   "outputs": [],
   "source": [
    "import pandas as pd\n",
    "\n",
    "df_wine = pd.read_csv('https://archive.ics.uci.edu/ml/'\n",
    "                      'machine-learning-databases/wine/wine.data', header=None)"
   ]
  },
  {
   "cell_type": "code",
   "execution_count": 4,
   "id": "625098bb",
   "metadata": {},
   "outputs": [],
   "source": [
    "from sklearn.model_selection import train_test_split\n",
    "\n",
    "X, y = df_wine.iloc[:, 1:].values, df_wine.iloc[:, 0].values\n",
    "X_train, X_test, y_train, y_test = train_test_split(X, y, test_size=0.3, stratify=y, random_state=0)"
   ]
  },
  {
   "cell_type": "code",
   "execution_count": 5,
   "id": "43b72d3f",
   "metadata": {},
   "outputs": [],
   "source": [
    "from sklearn.preprocessing import StandardScaler\n",
    "\n",
    "sc = StandardScaler()\n",
    "X_train_std = sc.fit_transform(X_train)\n",
    "X_test_std = sc.transform(X_test)"
   ]
  },
  {
   "cell_type": "markdown",
   "id": "ef167574",
   "metadata": {},
   "source": [
    "\\begin{align*}\n",
    " \\Sigma = \\begin{bmatrix}\n",
    " \\sigma_1^2& \\sigma_{12} &  \\sigma_{13}\\\\\n",
    " \\sigma_{21} & \\sigma_2^2 & \\sigma_{23} \\\\\n",
    " \\sigma_{31}& \\sigma_{32} & \\sigma_3^2 \\\\\n",
    "\\end{bmatrix}& \\\\\n",
    "\\\\\n",
    "\\text{where } \\sigma_{jk} &= \\frac{1}{n-1} \\sum_{i=1}^n \\left(x_j^{(i)} -\\mu_j\\right) \\left(x_k^{(i)} -\\mu_k\\right) \\\\\n",
    "&\\Downarrow \\\\\n",
    " \\Sigma \\mathbf{\\nu} &= \\lambda \\mathbf{\\nu}\n",
    "\\end{align*}"
   ]
  },
  {
   "cell_type": "code",
   "execution_count": 6,
   "id": "af4f010f",
   "metadata": {},
   "outputs": [
    {
     "name": "stdout",
     "output_type": "stream",
     "text": [
      "고윳값:\n",
      " [4.84274532 2.41602459 1.54845825 0.96120438 0.84166161 0.6620634\n",
      " 0.51828472 0.34650377 0.3131368  0.10754642 0.21357215 0.15362835\n",
      " 0.1808613 ]\n"
     ]
    }
   ],
   "source": [
    "import numpy as np\n",
    "\n",
    "cov_mat = np.cov(X_train_std.T)\n",
    "eigen_vals, eigen_vecs = np.linalg.eig(cov_mat)\n",
    "print('고윳값:\\n', eigen_vals)"
   ]
  },
  {
   "cell_type": "markdown",
   "id": "d6fca475",
   "metadata": {},
   "source": [
    "### 총 분산과 설명된 분산 \n",
    "\n",
    "$$\\displaystyle \\text{explained variance ratio } = \\frac{\\lambda_j}{\\sum_{j=1}^d \\lambda_j}$$"
   ]
  },
  {
   "cell_type": "code",
   "execution_count": 7,
   "id": "1b18eca3",
   "metadata": {},
   "outputs": [],
   "source": [
    "tot = sum(eigen_vals)\n",
    "var_exp = [i / tot for i in sorted(eigen_vals, reverse=True)]\n",
    "cum_var_exp = np.cumsum(var_exp)"
   ]
  },
  {
   "cell_type": "code",
   "execution_count": 8,
   "id": "1f1792e5",
   "metadata": {},
   "outputs": [
    {
     "data": {
      "image/png": "[encoded data removed]",
      "text/plain": [
       "<Figure size 432x288 with 1 Axes>"
      ]
     },
     "metadata": {
      "needs_background": "light"
     },
     "output_type": "display_data"
    }
   ],
   "source": [
    "import matplotlib.pyplot as plt\n",
    "\n",
    "plt.bar(range(1, 14), var_exp, alpha=0.5, align='center', label='Individual explained variance ratio')\n",
    "plt.step(range(1, 14), cum_var_exp, where='mid', label='Cumulative explained variance ratio')\n",
    "\n",
    "plt.xlabel('Principal component index')\n",
    "plt.ylabel('Explained variance ratio')\n",
    "plt.legend(loc='best')\n",
    "plt.tight_layout()\n",
    "plt.show()"
   ]
  },
  {
   "cell_type": "markdown",
   "id": "c7dc4036",
   "metadata": {},
   "source": [
    "### 특성 변환 "
   ]
  },
  {
   "cell_type": "code",
   "execution_count": 9,
   "id": "69b0b809",
   "metadata": {},
   "outputs": [],
   "source": [
    "eigen_pairs = [(np.abs(eigen_vals[i]), eigen_vecs[:, i]) for i in range(len(eigen_vals))]\n",
    "eigen_pairs.sort(key=lambda k: k[0], reverse=True)"
   ]
  },
  {
   "cell_type": "code",
   "execution_count": 10,
   "id": "1b0773db",
   "metadata": {},
   "outputs": [
    {
     "name": "stdout",
     "output_type": "stream",
     "text": [
      "투영 행렬 W:\n",
      " [[-0.13724218  0.50303478]\n",
      " [ 0.24724326  0.16487119]\n",
      " [-0.02545159  0.24456476]\n",
      " [ 0.20694508 -0.11352904]\n",
      " [-0.15436582  0.28974518]\n",
      " [-0.39376952  0.05080104]\n",
      " [-0.41735106 -0.02287338]\n",
      " [ 0.30572896  0.09048885]\n",
      " [-0.30668347  0.00835233]\n",
      " [ 0.07554066  0.54977581]\n",
      " [-0.32613263 -0.20716433]\n",
      " [-0.36861022 -0.24902536]\n",
      " [-0.29669651  0.38022942]]\n"
     ]
    }
   ],
   "source": [
    "w = np.hstack((eigen_pairs[0][1][:, np.newaxis],\n",
    "               eigen_pairs[1][1][:, np.newaxis]))\n",
    "print('투영 행렬 W:\\n', w)"
   ]
  },
  {
   "cell_type": "markdown",
   "id": "63c8601c",
   "metadata": {},
   "source": [
    "$$\\mathbf{z}=\\mathbf{x}\\mathbf{W}$$"
   ]
  },
  {
   "cell_type": "code",
   "execution_count": 11,
   "id": "697b4abd",
   "metadata": {},
   "outputs": [
    {
     "data": {
      "text/plain": [
       "array([2.38299011, 0.45458499])"
      ]
     },
     "execution_count": 11,
     "metadata": {},
     "output_type": "execute_result"
    }
   ],
   "source": [
    "X_train_std[0].dot(w)"
   ]
  },
  {
   "cell_type": "markdown",
   "id": "9b000d61",
   "metadata": {},
   "source": [
    "$$\\mathbf{Z}=\\mathbf{X}\\mathbf{W}$$"
   ]
  },
  {
   "cell_type": "code",
   "execution_count": 12,
   "id": "7db7f3f3",
   "metadata": {},
   "outputs": [],
   "source": [
    "X_train_pca = X_train_std.dot(w)"
   ]
  },
  {
   "cell_type": "code",
   "execution_count": 13,
   "id": "0a9c5ad1",
   "metadata": {},
   "outputs": [
    {
     "data": {
      "image/png": "[encoded data removed]",
      "text/plain": [
       "<Figure size 432x288 with 1 Axes>"
      ]
     },
     "metadata": {
      "needs_background": "light"
     },
     "output_type": "display_data"
    }
   ],
   "source": [
    "colors = ['r', 'b', 'g']\n",
    "markers = ['s', 'x', 'o']\n",
    "for l, c, m in zip(np.unique(y_train), colors, markers):\n",
    "    plt.scatter(X_train_pca[y_train==l, 0], X_train_pca[y_train==l, 1], label=l, c=c, marker=m)\n",
    "plt.xlabel('PC 1')\n",
    "plt.ylabel('PC 2')\n",
    "plt.legend(loc='lower left')\n",
    "plt.tight_layout()\n",
    "plt.show()"
   ]
  },
  {
   "cell_type": "markdown",
   "id": "5fc5bcec",
   "metadata": {},
   "source": [
    "### 사이킷런의 주성분 분석 "
   ]
  },
  {
   "cell_type": "code",
   "execution_count": 14,
   "id": "fce342ef",
   "metadata": {},
   "outputs": [],
   "source": [
    "from matplotlib.colors import ListedColormap\n",
    "\n",
    "def plot_decision_regions(X, y, classifier, resolution=0.02):\n",
    "    \n",
    "    # 마커와 컬러맵을 설정합니다\n",
    "    markers = ('s', 'x', 'o', '^', 'v')\n",
    "    colors = ('red', 'blue', 'lightgreen', 'gray', 'cyan')\n",
    "    cmap = ListedColormap(colors[:len(np.unique(y))])\n",
    "    \n",
    "    # 결정 경계를 그립니다\n",
    "    x1_min, x1_max = X[:, 0].min() - 1, X[:, 0].max() + 1\n",
    "    x2_min, x2_max = X[:, 1].min() - 1, X[:, 1].max() + 1\n",
    "    \n",
    "    xx1, xx2 = np.meshgrid(np.arange(x1_min, x1_max, resolution),\n",
    "                           np.arange(x2_min, x2_max, resolution))\n",
    "    \n",
    "    Z = classifier.predict(np.array([xx1.ravel(), xx2.ravel()]).T)\n",
    "    Z = Z.reshape(xx1.shape)\n",
    "    \n",
    "    plt.contourf(xx1, xx2, Z, alpha=0.3, cmap=cmap)\n",
    "    plt.xlim(xx1.min(), xx1.max())\n",
    "    plt.ylim(xx2.min(), xx2.max())\n",
    "    \n",
    "    for idx, cl in enumerate(np.unique(y)):\n",
    "        plt.scatter(x=X[y==cl, 0], y=X[y==cl, 1], \n",
    "                    alpha=0.8,\n",
    "                    c=colors[idx],\n",
    "                    marker=markers[idx],\n",
    "                    label=cl,\n",
    "                    edgecolor='black')\n"
   ]
  },
  {
   "cell_type": "code",
   "execution_count": 15,
   "id": "8ea7259d",
   "metadata": {},
   "outputs": [],
   "source": [
    "from sklearn.decomposition import PCA\n",
    "from sklearn.linear_model import LogisticRegression\n",
    "\n",
    "pca = PCA(n_components=2)\n",
    "lr = LogisticRegression(random_state=1)"
   ]
  },
  {
   "cell_type": "code",
   "execution_count": 16,
   "id": "979fb2ad",
   "metadata": {},
   "outputs": [
    {
     "data": {
      "text/plain": [
       "LogisticRegression(random_state=1)"
      ]
     },
     "execution_count": 16,
     "metadata": {},
     "output_type": "execute_result"
    }
   ],
   "source": [
    "X_train_pca = pca.fit_transform(X_train_std)\n",
    "X_test_pca = pca.transform(X_test_std)\n",
    "\n",
    "lr.fit(X_train_pca, y_train)"
   ]
  },
  {
   "cell_type": "code",
   "execution_count": 17,
   "id": "ed915b5c",
   "metadata": {},
   "outputs": [
    {
     "data": {
      "image/png": "[encoded data removed]",
      "text/plain": [
       "<Figure size 432x288 with 1 Axes>"
      ]
     },
     "metadata": {
      "needs_background": "light"
     },
     "output_type": "display_data"
    }
   ],
   "source": [
    "plot_decision_regions(X_train_pca, y_train, classifier=lr)\n",
    "\n",
    "plt.xlabel('PC 1')\n",
    "plt.ylabel('PC 2')\n",
    "plt.legend(loc='lower left')\n",
    "plt.tight_layout()\n",
    "plt.show()"
   ]
  },
  {
   "cell_type": "code",
   "execution_count": 18,
   "id": "29c185eb",
   "metadata": {},
   "outputs": [
    {
     "data": {
      "image/png": "[encoded data removed]",
      "text/plain": [
       "<Figure size 432x288 with 1 Axes>"
      ]
     },
     "metadata": {
      "needs_background": "light"
     },
     "output_type": "display_data"
    }
   ],
   "source": [
    "plot_decision_regions(X_test_pca, y_test, classifier=lr)\n",
    "\n",
    "plt.xlabel('PC 1')\n",
    "plt.ylabel('PC 2')\n",
    "plt.legend(loc='lower left')\n",
    "plt.tight_layout()\n",
    "plt.show()"
   ]
  },
  {
   "cell_type": "markdown",
   "id": "dea5c544",
   "metadata": {},
   "source": [
    "---"
   ]
  },
  {
   "cell_type": "code",
   "execution_count": 19,
   "id": "25b7c830",
   "metadata": {},
   "outputs": [
    {
     "data": {
      "text/plain": [
       "array([0.36951469, 0.18434927, 0.11815159, 0.07334252, 0.06422108,\n",
       "       0.05051724, 0.03954654, 0.02643918, 0.02389319, 0.01629614,\n",
       "       0.01380021, 0.01172226, 0.00820609])"
      ]
     },
     "execution_count": 19,
     "metadata": {},
     "output_type": "execute_result"
    }
   ],
   "source": [
    "pca = PCA(n_components=None)  # n_components=None 으로 지정하면 차원 축소를 수행하는 대신 분산의 크기로 주성분이 반환됨\n",
    "\n",
    "X_train_pca = pca.fit_transform(X_train_std)\n",
    "pca.explained_variance_ratio_"
   ]
  },
  {
   "cell_type": "code",
   "execution_count": 20,
   "id": "632812ac",
   "metadata": {},
   "outputs": [
    {
     "name": "stdout",
     "output_type": "stream",
     "text": [
      "주성분 개수: 10\n",
      "설명된 분산 비율: 0.9662714406558744\n"
     ]
    }
   ],
   "source": [
    "pca = PCA(n_components=0.95)\n",
    "pca.fit(X_train_std)\n",
    "\n",
    "print('주성분 개수:', pca.n_components_)\n",
    "print('설명된 분산 비율:', np.sum(pca.explained_variance_ratio_))"
   ]
  },
  {
   "cell_type": "code",
   "execution_count": 21,
   "id": "688eaed3",
   "metadata": {},
   "outputs": [
    {
     "name": "stdout",
     "output_type": "stream",
     "text": [
      "주성분 개수: 9\n",
      "설명된 분산 비율: 0.9499753029186234\n"
     ]
    }
   ],
   "source": [
    "pca = PCA(n_components='mle')\n",
    "pca.fit(X_train_std)\n",
    "\n",
    "print('주성분 개수:', pca.n_components_)\n",
    "print('설명된 분산 비율:', np.sum(pca.explained_variance_ratio_))"
   ]
  },
  {
   "cell_type": "code",
   "execution_count": 22,
   "id": "0bb7bd2d",
   "metadata": {},
   "outputs": [
    {
     "name": "stdout",
     "output_type": "stream",
     "text": [
      "주성분 개수: 9\n",
      "설명된 분산 비율: 0.9478392700446663\n"
     ]
    }
   ],
   "source": [
    "from sklearn.decomposition import IncrementalPCA\n",
    "\n",
    "ipca = IncrementalPCA(n_components=9)\n",
    "for batch in range(len(X_train_std) // 25 + 1):\n",
    "    X_batch = X_train_std[batch * 25:(batch + 1) * 25]\n",
    "    ipca.partial_fit(X_batch)\n",
    "\n",
    "print('주성분 개수:', ipca.n_components_)\n",
    "print('설명된 분산 비율:', np.sum(ipca.explained_variance_ratio_))"
   ]
  },
  {
   "cell_type": "markdown",
   "id": "5b9746e8",
   "metadata": {},
   "source": [
    "## 5.2 선형 판별 분석을 통한 지도 방식의 데이터 압축 "
   ]
  },
  {
   "cell_type": "markdown",
   "id": "a95dff6a",
   "metadata": {},
   "source": [
    "### 주성분 분석 vs. 선형 판별분석\n",
    "\n",
    "* PCA - 비지도 학습\n",
    "* LDA - 지도 학습\n",
    "\n",
    "\\begin{align*}\n",
    " J &= \\frac{\\mathbf{w}^T \\mathbf{S}_B \\mathbf{w}}{\\mathbf{w}^T \\mathbf{S}_W \\mathbf{w}}\\\\\n",
    " &\\Downarrow \\\\\n",
    " \\mathbf{S}_B \\mathbf{w} &= \\lambda \\mathbf{S}_W \\mathbf{w} \\\\\n",
    " \\mathbf{S}_W^{-1} \\mathbf{S}_B \\mathbf{w} &= \\lambda \\mathbf{w}\n",
    "\\end{align*}\n",
    "\n",
    "[참고문헌](https://bit.ly/2A6AEKh)"
   ]
  },
  {
   "cell_type": "code",
   "execution_count": 23,
   "id": "4651e3f6",
   "metadata": {},
   "outputs": [
    {
     "data": {
      "text/html": [
       "<img src=\"https://git.io/Jtsv8\" width=\"400\"/>"
      ],
      "text/plain": [
       "<IPython.core.display.Image object>"
      ]
     },
     "execution_count": 23,
     "metadata": {},
     "output_type": "execute_result"
    }
   ],
   "source": [
    "Image(url='https://git.io/Jtsv8', width=400) "
   ]
  },
  {
   "cell_type": "markdown",
   "id": "1b9e285f",
   "metadata": {},
   "source": [
    "### 선형 판별 분석의 내부 동작 방식\n",
    "\n",
    "1. $d$차원의 데이터셋을 표준화 전처리\n",
    "2. 각 클래스에 대해 $d$차원의 평균 백터를 계산\n",
    "3. 클래스 간의 산포 행렬(scatter matrix) $\\mathbf{S}_B$와 클래스 내 산포 행렬 $\\mathbf{S}_w$를 구성\n",
    "4. $\\mathbf{S}_W^{-1}\\mathbf{S}_B$ 행렬의 고유 백터와 고윳값을 계산\n",
    "5. 고윳값을 내림차순으로 정렬하여 고유 백터의 순서를 매김\n",
    "6. 고윳값이 가장 큰 $k$개의 고유 백터를 선택하여 $d \\times k $ 차원의 변환 행렬 $\\mathbf{W}$를 구성\n",
    "7. 변환 행렬 $\\mathbf{W}$를 사용하여 샘플을 새로운 특성 부분 공간으로 투영"
   ]
  },
  {
   "cell_type": "markdown",
   "id": "849d3c4d",
   "metadata": {},
   "source": [
    "### 산포 행렬 계산 "
   ]
  },
  {
   "cell_type": "markdown",
   "id": "679c9168",
   "metadata": {},
   "source": [
    "$$\\mathbf{m}_i = \\frac{1}{n_i} \\sum_{\\mathbf{x}\\in D_i} \\mathbf{x}$$"
   ]
  },
  {
   "cell_type": "code",
   "execution_count": 24,
   "id": "d652367c",
   "metadata": {},
   "outputs": [
    {
     "name": "stdout",
     "output_type": "stream",
     "text": [
      "MV 1: [ 0.9066 -0.3497  0.3201 -0.7189  0.5056  0.8807  0.9589 -0.5516  0.5416\n",
      "  0.2338  0.5897  0.6563  1.2075]\n",
      "\n",
      "MV 2: [-0.8749 -0.2848 -0.3735  0.3157 -0.3848 -0.0433  0.0635 -0.0946  0.0703\n",
      " -0.8286  0.3144  0.3608 -0.7253]\n",
      "\n",
      "MV 3: [ 0.1992  0.866   0.1682  0.4148 -0.0451 -1.0286 -1.2876  0.8287 -0.7795\n",
      "  0.9649 -1.209  -1.3622 -0.4013]\n",
      "\n"
     ]
    }
   ],
   "source": [
    "np.set_printoptions(precision=4)\n",
    "\n",
    "mean_vecs = []\n",
    "for label in range(1, 4):\n",
    "    mean_vecs.append(np.mean(X_train_std[y_train == label], axis=0))\n",
    "    print('MV %s: %s\\n' % (label, mean_vecs[label - 1]))"
   ]
  },
  {
   "cell_type": "markdown",
   "id": "34979529",
   "metadata": {},
   "source": [
    "\\begin{align*}\n",
    " \\mathbf{S}_i = \\sum_{\\mathbf{x}\\in D_i} &(\\mathbf{x} -\\mathbf{m}_i)^T(\\mathbf{x} -\\mathbf{m}_i)\\\\\n",
    " &\\Downarrow \\\\\n",
    " \\mathbf{S}_W &= \\sum_{i=1}^c \\mathbf{S}_i\n",
    "\\end{align*} "
   ]
  },
  {
   "cell_type": "code",
   "execution_count": 25,
   "id": "90a04057",
   "metadata": {},
   "outputs": [
    {
     "name": "stdout",
     "output_type": "stream",
     "text": [
      "클래스 내의 산포 행렬: 13x13\n"
     ]
    }
   ],
   "source": [
    "d = 13  # 특성 개수\n",
    "\n",
    "S_W = np.zeros((d, d))\n",
    "for label, mv in zip(range(1, 4), mean_vecs):\n",
    "    class_scatter = np.zeros((d, d))\n",
    "    for row in X_train_std[y_train == label]:\n",
    "        row, mv = row.reshape(d, 1), mv.reshape(d, 1)\n",
    "        class_scatter += (row - mv).dot((row -mv).T)\n",
    "    S_W += class_scatter\n",
    "    \n",
    "print('클래스 내의 산포 행렬: %sx%s' % (S_W.shape[0], S_W.shape[1]))"
   ]
  },
  {
   "cell_type": "code",
   "execution_count": 26,
   "id": "6ef917a0",
   "metadata": {},
   "outputs": [
    {
     "name": "stdout",
     "output_type": "stream",
     "text": [
      "클래스 레이블 분포: [41 50 33]\n"
     ]
    }
   ],
   "source": [
    "print('클래스 레이블 분포: %s' % np.bincount(y_train)[1:])"
   ]
  },
  {
   "cell_type": "markdown",
   "id": "d20051be",
   "metadata": {},
   "source": [
    "$$\\Sigma_i = \\frac{1}{n_i}\\mathbf{S}_i = \\frac{1}{n_i} \\sum_{\\mathbf{x}\\in D_i} (\\mathbf{x} -\\mathbf{m}_i)^T(\\mathbf{x} -\\mathbf{m}_i)$$"
   ]
  },
  {
   "cell_type": "code",
   "execution_count": 27,
   "id": "6db41393",
   "metadata": {},
   "outputs": [
    {
     "name": "stdout",
     "output_type": "stream",
     "text": [
      "스케일 조정된 클래스 내의 산포 행렬: 13x13\n"
     ]
    }
   ],
   "source": [
    "d = 13\n",
    "S_W = np.zeros((d, d))\n",
    "for label, mv in zip(range(1, 4), mean_vecs):\n",
    "    class_scatter = np.cov(X_train_std[y_train==label].T)\n",
    "    S_W += class_scatter\n",
    "    \n",
    "print('스케일 조정된 클래스 내의 산포 행렬: %sx%s' % (S_W.shape[0], S_W.shape[1]))"
   ]
  },
  {
   "cell_type": "markdown",
   "id": "f6310e3f",
   "metadata": {},
   "source": [
    "$$\\mathbf{S}_B = \\sum_{i=1}^c n_i (\\mathbf{m}_i -\\mathbf{m})^T(\\mathbf{m}_i -\\mathbf{m})$$"
   ]
  },
  {
   "cell_type": "code",
   "execution_count": 28,
   "id": "b23f4d70",
   "metadata": {},
   "outputs": [
    {
     "name": "stdout",
     "output_type": "stream",
     "text": [
      "클래스 간의 산포 행렬: 13x13\n"
     ]
    }
   ],
   "source": [
    "mean_overall = np.mean(X_train_std, axis=0)\n",
    "mean_overall = mean_overall.reshape(d, 1)\n",
    "\n",
    "S_B = np.zeros((d, d))\n",
    "for i, mean_vec in enumerate(mean_vecs):\n",
    "    n = X_train[y_train== i + 1, :].shape[0]\n",
    "    mean_vec = mean_vec.reshape(d, 1)\n",
    "    S_B += n * (mean_vec - mean_overall).dot((mean_vec - mean_overall).T)\n",
    "    \n",
    "print('클래스 간의 산포 행렬: %sx%s' % (S_W.shape[0], S_W.shape[1]))"
   ]
  },
  {
   "cell_type": "markdown",
   "id": "182a0c47",
   "metadata": {},
   "source": [
    "### 새로운 특성 부분 공간을 위해 선형 판별 벡터 선택 "
   ]
  },
  {
   "cell_type": "code",
   "execution_count": 29,
   "id": "0bae12c6",
   "metadata": {},
   "outputs": [
    {
     "name": "stdout",
     "output_type": "stream",
     "text": [
      "내림차순의 고윳값:\n",
      "\n",
      "349.618\n",
      "172.762\n",
      "0.0\n",
      "0.0\n",
      "0.0\n",
      "0.0\n",
      "0.0\n",
      "0.0\n",
      "0.0\n",
      "0.0\n",
      "0.0\n",
      "0.0\n",
      "0.0\n"
     ]
    }
   ],
   "source": [
    "eigen_vals, eigen_vecs = np.linalg.eig(np.linalg.inv(S_W).dot(S_B))\n",
    "\n",
    "eigen_pairs = [(np.abs(eigen_vals[i]), eigen_vecs[:, i]) for i in range(len(eigen_vals))]\n",
    "eigen_pairs = sorted(eigen_pairs, key=lambda k: k[0], reverse=True)\n",
    "\n",
    "print('내림차순의 고윳값:\\n')\n",
    "for eigen_val in eigen_pairs:\n",
    "    print(round(eigen_val[0], 3))"
   ]
  },
  {
   "cell_type": "markdown",
   "id": "5c4764bd",
   "metadata": {},
   "source": [
    "---"
   ]
  },
  {
   "cell_type": "code",
   "execution_count": 30,
   "id": "d415cbee",
   "metadata": {},
   "outputs": [],
   "source": [
    "tot = sum(eigen_vals.real)\n",
    "\n",
    "discr = [i / tot for i in sorted(eigen_vals.real, reverse=True)]\n",
    "cum_discr = np.cumsum(discr)"
   ]
  },
  {
   "cell_type": "code",
   "execution_count": 31,
   "id": "3a89b21e",
   "metadata": {},
   "outputs": [
    {
     "data": {
      "image/png": "[encoded data removed]",
      "text/plain": [
       "<Figure size 432x288 with 1 Axes>"
      ]
     },
     "metadata": {
      "needs_background": "light"
     },
     "output_type": "display_data"
    }
   ],
   "source": [
    "plt.bar(range(1, 14), discr, alpha=0.5, align='center', label='Individual \"discriminality\"')\n",
    "plt.step(range(1, 14), cum_discr, where='mid', label='Cumulative \"discriminality\"')\n",
    "\n",
    "plt.xlabel('Linear discriminants')\n",
    "plt.ylabel('\"Discriminability\" ratio')\n",
    "plt.ylim([-0.1, 1.1])\n",
    "plt.legend(loc='best')\n",
    "plt.tight_layout()\n",
    "plt.show()"
   ]
  },
  {
   "cell_type": "code",
   "execution_count": 32,
   "id": "1f8803c7",
   "metadata": {},
   "outputs": [
    {
     "name": "stdout",
     "output_type": "stream",
     "text": [
      "행렬 W:\n",
      " [[-0.1481 -0.4092]\n",
      " [ 0.0908 -0.1577]\n",
      " [-0.0168 -0.3537]\n",
      " [ 0.1484  0.3223]\n",
      " [-0.0163 -0.0817]\n",
      " [ 0.1913  0.0842]\n",
      " [-0.7338  0.2823]\n",
      " [-0.075  -0.0102]\n",
      " [ 0.0018  0.0907]\n",
      " [ 0.294  -0.2152]\n",
      " [-0.0328  0.2747]\n",
      " [-0.3547 -0.0124]\n",
      " [-0.3915 -0.5958]]\n"
     ]
    }
   ],
   "source": [
    "w = np.hstack((eigen_pairs[0][1][:, np.newaxis].real,\n",
    "               eigen_pairs[1][1][:, np.newaxis].real))\n",
    "\n",
    "print('행렬 W:\\n', w)"
   ]
  },
  {
   "cell_type": "markdown",
   "id": "530e23a9",
   "metadata": {},
   "source": [
    "### 새로운 특성 공간으로 샘플 투영 "
   ]
  },
  {
   "cell_type": "markdown",
   "id": "e5d7e477",
   "metadata": {},
   "source": [
    "$$\\mathbf{Z}=\\mathbf{X}\\mathbf{W}$$"
   ]
  },
  {
   "cell_type": "code",
   "execution_count": 33,
   "id": "e50345d5",
   "metadata": {},
   "outputs": [
    {
     "data": {
      "image/png": "[encoded data removed]",
      "text/plain": [
       "<Figure size 432x288 with 1 Axes>"
      ]
     },
     "metadata": {
      "needs_background": "light"
     },
     "output_type": "display_data"
    }
   ],
   "source": [
    "X_train_lda = X_train_std.dot(w) * -1\n",
    "\n",
    "colors = ['r', 'b', 'g']\n",
    "markers= ['s', 'x', 'o']\n",
    "for l, c, m in zip(np.unique(y_train), colors, markers):\n",
    "    plt.scatter(X_train_lda[y_train==l, 0], X_train_lda[y_train==l, 1], c=c, label=l, marker=m)\n",
    "    \n",
    "plt.xlabel('LD 1')\n",
    "plt.ylabel('LD 2')\n",
    "plt.legend(loc='lower right')\n",
    "plt.tight_layout()\n",
    "plt.show()"
   ]
  },
  {
   "cell_type": "markdown",
   "id": "b49f68a6",
   "metadata": {},
   "source": [
    "### 사이킷런의 LDA "
   ]
  },
  {
   "cell_type": "code",
   "execution_count": 34,
   "id": "2a15a94b",
   "metadata": {},
   "outputs": [],
   "source": [
    "from sklearn.discriminant_analysis import LinearDiscriminantAnalysis as LDA\n",
    "\n",
    "lda = LDA(n_components=2)\n",
    "X_train_lda = lda.fit_transform(X_train_std, y_train)"
   ]
  },
  {
   "cell_type": "raw",
   "id": "f0ab9659",
   "metadata": {},
   "source": [
    "lr = LogisticRegression(random_state=1)\n",
    "lr = lr.fit(X_train_lda, y_train)"
   ]
  },
  {
   "cell_type": "code",
   "execution_count": 35,
   "id": "bae6e62e",
   "metadata": {},
   "outputs": [
    {
     "data": {
      "image/png": "[encoded data removed]",
      "text/plain": [
       "<Figure size 432x288 with 1 Axes>"
      ]
     },
     "metadata": {
      "needs_background": "light"
     },
     "output_type": "display_data"
    }
   ],
   "source": [
    "plot_decision_regions(X_train_lda, y_train, classifier=lr)\n",
    "\n",
    "plt.xlabel('LD 1')\n",
    "plt.ylabel('LD 2')\n",
    "plt.legend(loc='lower left')\n",
    "plt.tight_layout()\n",
    "plt.show()"
   ]
  },
  {
   "cell_type": "code",
   "execution_count": 36,
   "id": "6a517879",
   "metadata": {},
   "outputs": [
    {
     "data": {
      "image/png": "[encoded data removed]",
      "text/plain": [
       "<Figure size 432x288 with 1 Axes>"
      ]
     },
     "metadata": {
      "needs_background": "light"
     },
     "output_type": "display_data"
    }
   ],
   "source": [
    "X_test_lda = lda.transform(X_test_std)\n",
    "\n",
    "plot_decision_regions(X_test_lda, y_test, classifier=lr)\n",
    "\n",
    "plt.xlabel('LD 1')\n",
    "plt.ylabel('LD 2')\n",
    "plt.legend(loc='lower left')\n",
    "plt.tight_layout()\n",
    "plt.show()"
   ]
  },
  {
   "cell_type": "markdown",
   "id": "05159f6d",
   "metadata": {},
   "source": [
    "---\n",
    "\n",
    "$$\\begin{align*}\n",
    " \\mathbf{m} &= \\sum_{i=1}^c \\frac{n_i}{n}\\mathbf{m}_i\\\\ \n",
    " \\mathbf{S}_W &= \\sum_{i=1}^c \\frac{n_i}{n}\\mathbf{S}_i = \\sum_{i=1}^c \\frac{n_i}{n} \\Sigma_i\n",
    "\\end{align*}$$"
   ]
  },
  {
   "cell_type": "code",
   "execution_count": 37,
   "id": "d64c80a6",
   "metadata": {},
   "outputs": [
    {
     "data": {
      "text/plain": [
       "array([0.3306, 0.4032, 0.2661])"
      ]
     },
     "execution_count": 37,
     "metadata": {},
     "output_type": "execute_result"
    }
   ],
   "source": [
    "y_uniq, y_count = np.unique(y_train, return_counts=True)\n",
    "priors = y_count / X_train_std.shape[0]\n",
    "\n",
    "priors"
   ]
  },
  {
   "cell_type": "code",
   "execution_count": 38,
   "id": "f87a6926",
   "metadata": {},
   "outputs": [],
   "source": [
    "s_w = np.zeros((X_train_std.shape[1], X_train_std.shape[1]))\n",
    "for i, label in enumerate(y_uniq):\n",
    "    s_w += priors[i] * np.cov(X_train_std[y_train==label].T, bias=True)"
   ]
  },
  {
   "cell_type": "markdown",
   "id": "1b97a96d",
   "metadata": {},
   "source": [
    "$$\\mathbf{S}_B = \\sum_{i=1}^c \\frac{n_i}{n} (\\mathbf{m}_i -\\mathbf{m})(\\mathbf{m}_i -\\mathbf{m})^T$$"
   ]
  },
  {
   "cell_type": "code",
   "execution_count": 39,
   "id": "2d471ebf",
   "metadata": {},
   "outputs": [],
   "source": [
    "s_b = np.zeros((X_train_std.shape[1], X_train_std.shape[1]))\n",
    "for i, mean_vec in enumerate(mean_vecs):\n",
    "    mean_vec = mean_vec.reshape(-1, 1)\n",
    "    s_b += priors[i] * (mean_vec - mean_overall).dot((mean_vec - mean_overall).T)"
   ]
  },
  {
   "cell_type": "code",
   "execution_count": 40,
   "id": "121e7d85",
   "metadata": {},
   "outputs": [],
   "source": [
    "import scipy\n",
    "\n",
    "ei_val, ei_vec = scipy.linalg.eigh(s_b, s_w)  #s_b w = lambda s_w w \n",
    "ei_vec = ei_vec[:, np.argsort(ei_val)[::-1]]"
   ]
  },
  {
   "cell_type": "code",
   "execution_count": 41,
   "id": "d1ef889a",
   "metadata": {},
   "outputs": [
    {
     "data": {
      "text/plain": [
       "LinearDiscriminantAnalysis(solver='eigen')"
      ]
     },
     "execution_count": 41,
     "metadata": {},
     "output_type": "execute_result"
    }
   ],
   "source": [
    "lda_eigen = LDA(solver='eigen')\n",
    "lda_eigen.fit(X_train_std, y_train)"
   ]
  },
  {
   "cell_type": "code",
   "execution_count": 42,
   "id": "ed48dfc6",
   "metadata": {},
   "outputs": [
    {
     "data": {
      "text/plain": [
       "True"
      ]
     },
     "execution_count": 42,
     "metadata": {},
     "output_type": "execute_result"
    }
   ],
   "source": [
    "np.allclose(s_w, lda_eigen.covariance_) # 클래스 내 산포행렬"
   ]
  },
  {
   "cell_type": "markdown",
   "id": "5db221d4",
   "metadata": {},
   "source": [
    "$$\\mathbf{S}_T = \\frac{1}{n}\\sum_{i=1}^c (\\mathbf{x} -\\mathbf{m})(\\mathbf{x} -\\mathbf{m})^T=\\mathbf{S}_B +\\mathbf{S}_W$$"
   ]
  },
  {
   "cell_type": "code",
   "execution_count": null,
   "id": "387908b6",
   "metadata": {},
   "outputs": [],
   "source": []
  },
  {
   "cell_type": "code",
   "execution_count": 43,
   "id": "2cd65c26",
   "metadata": {},
   "outputs": [
    {
     "data": {
      "text/plain": [
       "True"
      ]
     },
     "execution_count": 43,
     "metadata": {},
     "output_type": "execute_result"
    }
   ],
   "source": [
    "Sb = np.cov(X_train_std.T, bias=True) - lda_eigen.covariance_\n",
    "np.allclose(Sb, s_b)"
   ]
  },
  {
   "cell_type": "code",
   "execution_count": 44,
   "id": "bdf22b09",
   "metadata": {},
   "outputs": [
    {
     "data": {
      "text/plain": [
       "True"
      ]
     },
     "execution_count": 44,
     "metadata": {},
     "output_type": "execute_result"
    }
   ],
   "source": [
    "np.allclose(lda_eigen.scalings_[:, :2], ei_vec[:, :2])"
   ]
  },
  {
   "cell_type": "code",
   "execution_count": 45,
   "id": "2e49491f",
   "metadata": {},
   "outputs": [
    {
     "data": {
      "text/plain": [
       "True"
      ]
     },
     "execution_count": 45,
     "metadata": {},
     "output_type": "execute_result"
    }
   ],
   "source": [
    "np.allclose(lda_eigen.transform(X_test_std), np.dot(X_test_std, ei_vec[:, :2]))"
   ]
  },
  {
   "cell_type": "markdown",
   "id": "ec310450",
   "metadata": {},
   "source": [
    "## 5.3 커널 PCA를 사용하여 비선형 매핑 "
   ]
  },
  {
   "cell_type": "code",
   "execution_count": 46,
   "id": "6d1b175f",
   "metadata": {},
   "outputs": [
    {
     "data": {
      "text/html": [
       "<img src=\"https://git.io/JtsvB\" width=\"500\"/>"
      ],
      "text/plain": [
       "<IPython.core.display.Image object>"
      ]
     },
     "execution_count": 46,
     "metadata": {},
     "output_type": "execute_result"
    }
   ],
   "source": [
    "Image(url='https://git.io/JtsvB', width=500)"
   ]
  },
  {
   "cell_type": "markdown",
   "id": "5fbc7cbe",
   "metadata": {},
   "source": [
    "### 커널 함수와 커널 트릭 "
   ]
  },
  {
   "cell_type": "markdown",
   "id": "02cd4e2e",
   "metadata": {},
   "source": [
    "\\begin{align*}\n",
    " \\hat{\\Sigma} &= \\sum_{i=1}^n \\mathbf{x}^{(i)}{\\mathbf{x}^{(i)}}^T  \\\\\n",
    " \\\\ \n",
    " &\\Downarrow \\text{ Kernel Trick: } \\phi: \\mathbb{R}^d \\rightarrow \\mathbb{R}^k, \\;\\; k \\gg d\\\\ \n",
    " \\\\\n",
    " \\hat{\\Sigma} &=  \\sum_{i=1}^n \\phi\\left( \\mathbf{x}^{(i)} \\right) \\phi\\left(\\mathbf{x}^{(i)} \\right ){}^T \n",
    " =  \\phi(\\mathbf{X})^T \\phi(\\mathbf{X})\\\\\n",
    " &\\Downarrow \\\\ \n",
    " \\hat{\\Sigma} \\mathbf{v} &= \\lambda \\mathbf{v},\\;\\;\\mathbf{v}= \\sum_{i=1}^n a^{(i)} \\phi\\left( \\mathbf{x}^{(i)} \\right)=\\phi\\left(\\mathbf{X} \\right)^T \\mathbf{a}\\\\ \n",
    " &\\Downarrow \\\\ \n",
    " \\phi(\\mathbf{X})^T \\phi(\\mathbf{X}) \\phi\\left(\\mathbf{X} \\right)^T \\mathbf{a} &= \\lambda \\phi\\left(\\mathbf{X} \\right)^T \\mathbf{a} \\\\\n",
    " &\\Downarrow \\\\\n",
    "  \\phi(\\mathbf{X}) \\phi(\\mathbf{X})^T \\phi(\\mathbf{X}) \\phi\\left(\\mathbf{X} \\right)^T \\mathbf{a} &= \\lambda \\phi(\\mathbf{X}) \\phi\\left(\\mathbf{X} \\right)^T \\mathbf{a} \\\\\n",
    " &\\Downarrow \\\\\n",
    " \\phi(\\mathbf{X}) \\phi(\\mathbf{X})^T \\mathbf{a} &= \\lambda \\mathbf{a} \\\\\n",
    " &\\Downarrow \\\\\n",
    "\\mathbf{K} \\mathbf{a} &= \\lambda \\mathbf{a}\n",
    "\\end{align*}"
   ]
  },
  {
   "cell_type": "markdown",
   "id": "94aa2490",
   "metadata": {},
   "source": [
    "#### 샘플 $\\mathbf{x}$ 끼리의 $\\phi$ 함수 점곱을 커널 함수 $\\mathbf{K}$로 \n",
    "\n",
    "$$\\kappa\\left(\\mathbf{x}^{(i)}, \\mathbf{x}^{(j)} \\right) = \\phi \\left( \\mathbf{x}^{(i)} \\right)^T \\phi \\left( \\mathbf{x}^{(j)} \\right)$$\n",
    "\n",
    "#### 널리 사용되는 커널\n",
    "$~$\n",
    "* 다항 커널\n",
    "\n",
    "$$\\kappa\\left(\\mathbf{x}^{(i)}, \\mathbf{x}^{(j)} \\right) = \\left( {\\mathbf{x}^{(i)}}^T \\mathbf{x}^{(j)} + \\theta \\right)^p$$\n",
    "\n",
    "* 하이퍼볼릭 탄젠트(시그모이드) 커널\n",
    "\n",
    "$$\\kappa\\left(\\mathbf{x}^{(i)}, \\mathbf{x}^{(j)} \\right) = \\tanh\\left( \\eta{\\mathbf{x}^{(i)}}^T \\mathbf{x}^{(j)} + \\theta \\right)$$\n",
    "\n",
    "* 방사 기저 함수 또는 가우시안 커널\n",
    "\n",
    "$$\\kappa\\left(\\mathbf{x}^{(i)}, \\mathbf{x}^{(j)} \\right) = \\exp\\left( -\\gamma\\| \\mathbf{x}^{(i)} -  \\mathbf{x}^{(j)}\\|^2 \\right)$$"
   ]
  },
  {
   "cell_type": "markdown",
   "id": "f4067955",
   "metadata": {},
   "source": [
    "#### 커널 PCA를 구현하기 위한 세 단계\n",
    "$~$\n",
    "1. 커널(유사도) 행렬 $\\mathbf{K}$ 계산\n",
    "\n",
    "\\begin{align*}\n",
    " \\kappa\\left(\\mathbf{x}^{(i)}, \\mathbf{x}^{(j)} \\right) &= \\exp\\left( -\\gamma\\| \\mathbf{x}^{(i)} -  \\mathbf{x}^{(j)}\\|^2 \\right)\\\\ \n",
    " &\\Downarrow \\\\\n",
    " \\mathbf{K} &=\n",
    "\\begin{bmatrix}\n",
    " \\kappa\\left(\\mathbf{x}^{(1)}, \\mathbf{x}^{(1)} \\right)  & \\kappa\\left(\\mathbf{x}^{(1)}, \\mathbf{x}^{(2)} \\right)  & \\cdots & \\kappa\\left(\\mathbf{x}^{(1)}, \\mathbf{x}^{(n)} \\right) \\\\ \n",
    "\\kappa\\left(\\mathbf{x}^{(2)}, \\mathbf{x}^{(1)} \\right)  & \\kappa\\left(\\mathbf{x}^{(2)}, \\mathbf{x}^{(2)} \\right)  & \\cdots & \\kappa\\left(\\mathbf{x}^{(2)}, \\mathbf{x}^{(n)} \\right) \\\\ \n",
    " \\vdots & \\vdots & \\ddots & \\vdots\\\\ \n",
    " \\kappa\\left(\\mathbf{x}^{(n)}, \\mathbf{x}^{(1)} \\right) & \\kappa\\left(\\mathbf{x}^{(n)}, \\mathbf{x}^{(2)} \\right)  & \\cdots & \\kappa\\left(\\mathbf{x}^{(n)}, \\mathbf{x}^{(n)} \\right)  \n",
    "\\end{bmatrix} \n",
    "\\end{align*}\n",
    "\n",
    "2. 커널 행렬 $\\mathbf{K}$를 중앙에 맞춤\n",
    "\n",
    "\\begin{align*}\n",
    " \\kappa_{ij}'=\\kappa'\\left(\\mathbf{x}^{(i)}, \\mathbf{x}^{(j)} \\right) &= \n",
    " \\left( \\phi\\left( \\mathbf{x}^{(i)} \\right) - \\frac{1}{n} \\sum_{r=1}^n \\phi\\left( \\mathbf{x}^{(r)} \\right) \\right)^T\n",
    " \\left( \\phi\\left( \\mathbf{x}^{(j)} \\right) - \\frac{1}{n} \\sum_{s=1}^n \\phi\\left( \\mathbf{x}^{(s)} \\right) \\right)\n",
    " \\\\ \n",
    " &= \\kappa_{ij} -\\frac{1}{n} \\left( \\kappa_{1j} +\\kappa_{2j}+\\cdots+\\kappa_{nj} \\right)\n",
    "-\\frac{1}{n} \\left( \\kappa_{i1} +\\kappa_{i2}+\\cdots+\\kappa_{in} \\right)\n",
    "+\\frac{1}{n^2} \\left( \\kappa_{11} +\\kappa_{12}+\\cdots+\\kappa_{nn} \\right)\n",
    "\\\\ \n",
    " &\\Downarrow \\\\ \n",
    " \\mathbf{K}' &= \\mathbf{K} -\\frac{1}{n} \\mathbf{I} \\mathbf{K} -\\frac{1}{n} \\mathbf{K} \\mathbf{I}\n",
    "+\\frac{1}{n^2} \\mathbf{I}\\mathbf{K} \\mathbf{I}\n",
    "\\end{align*}\n",
    "\n",
    "3. 고윳값의 크기대로 내림차순으로 정렬하여 중앙에 맞춘 커널 행렬에서 최상위 $k$개의 고유 백터를 고름\n",
    "  \n",
    "   표준 PCA와 다르게 이렇게 선정된 고유백터는 주성분 축이 아니며, 이미 이 축에 투영된 샘플임\n",
    "\n",
    "\n"
   ]
  },
  {
   "cell_type": "markdown",
   "id": "fccff939",
   "metadata": {},
   "source": [
    "### 파이썬으로 커널 PCA 구현 "
   ]
  },
  {
   "cell_type": "markdown",
   "id": "d1ba2d87",
   "metadata": {},
   "source": [
    "* [scipy.spatial.distance.pdist](https://docs.scipy.org/doc/scipy/reference/generated/scipy.spatial.distance.pdist.html?highlight=pdist#scipy.spatial.distance.pdist)\n",
    "\n",
    "* [scipy.spatial.distance.squareform](https://docs.scipy.org/doc/scipy/reference/generated/scipy.spatial.distance.squareform.html#scipy.spatial.distance.squareform)\n",
    "\n",
    "* [scipy.linalg.eigh](https://docs.scipy.org/doc/scipy/reference/generated/scipy.linalg.eigh.html)"
   ]
  },
  {
   "cell_type": "code",
   "execution_count": 47,
   "id": "80f09d93",
   "metadata": {},
   "outputs": [],
   "source": [
    "from scipy.spatial.distance import pdist, squareform\n",
    "from scipy.linalg import eigh\n",
    "\n",
    "def rbf_kernel_pca(X, gamma, n_components):\n",
    "    \n",
    "    sq_dists = pdist(X, 'sqeuclidean')\n",
    "    mat_sq_dists = squareform(sq_dists)\n",
    "    \n",
    "    K = np.exp(-gamma * mat_sq_dists)\n",
    "    \n",
    "    N = K.shape[0]\n",
    "    one_n = np.ones((N, N)) / N\n",
    "    \n",
    "    K = K -one_n.dot(K) - K.dot(one_n) + one_n.dot(K).dot(one_n)\n",
    "    \n",
    "    eigvals, eigvecs = eigh(K)\n",
    "    eigvals, eigvecs = eigvals[::-1], eigvecs[:, ::-1]\n",
    "    \n",
    "    X_pc = np.column_stack([eigvecs[:, i] for i in range(n_components)])\n",
    "    \n",
    "    return X_pc\n",
    "    "
   ]
  },
  {
   "cell_type": "markdown",
   "id": "c0b5035a",
   "metadata": {},
   "source": [
    "---\n",
    "\n",
    "예제 1: 반달 모양 구분하기"
   ]
  },
  {
   "cell_type": "code",
   "execution_count": 48,
   "id": "b6017c33",
   "metadata": {},
   "outputs": [
    {
     "data": {
      "image/png": "[encoded data removed]",
      "text/plain": [
       "<Figure size 432x288 with 1 Axes>"
      ]
     },
     "metadata": {
      "needs_background": "light"
     },
     "output_type": "display_data"
    }
   ],
   "source": [
    "from sklearn.datasets import make_moons\n",
    "\n",
    "X, y = make_moons(n_samples=100, random_state=123)\n",
    "\n",
    "plt.scatter(X[y==0, 0], X[y==0, 1], color='red', marker='^', alpha=0.5)\n",
    "plt.scatter(X[y==1, 0], X[y==1, 1], color='blue', marker='o', alpha=0.5)\n",
    "plt.show()"
   ]
  },
  {
   "cell_type": "code",
   "execution_count": 49,
   "id": "32f56f92",
   "metadata": {},
   "outputs": [
    {
     "data": {
      "image/png": "[encoded data removed]",
      "text/plain": [
       "<Figure size 504x216 with 2 Axes>"
      ]
     },
     "metadata": {
      "needs_background": "light"
     },
     "output_type": "display_data"
    }
   ],
   "source": [
    "scikit_pca = PCA(n_components=2)\n",
    "X_spca = scikit_pca.fit_transform(X)\n",
    "\n",
    "fig, ax = plt.subplots(nrows=1, ncols=2, figsize=(7, 3))\n",
    "\n",
    "ax[0].scatter(X_spca[y==0, 0], X_spca[y==0, 1], color='red', marker='^', alpha=0.5)\n",
    "ax[0].scatter(X_spca[y==1, 0], X_spca[y==1, 1], color='blue', marker='o', alpha=0.5)\n",
    "\n",
    "ax[1].scatter(X_spca[y==0, 0], np.zeros((50, 1)) + 0.02, color='red', marker='^', alpha=0.5)\n",
    "ax[1].scatter(X_spca[y==1, 0], np.zeros((50, 1)) - 0.02, color='blue', marker='o', alpha=0.5)\n",
    "\n",
    "ax[0].set_xlabel('PC 1')\n",
    "ax[0].set_ylabel('PC 2')\n",
    "\n",
    "ax[1].set_ylim([-0.8, 0.8])\n",
    "ax[1].set_yticks([])\n",
    "ax[1].set_xlabel('PC 1')\n",
    "\n",
    "plt.show()"
   ]
  },
  {
   "cell_type": "code",
   "execution_count": 50,
   "id": "3dceb940",
   "metadata": {},
   "outputs": [
    {
     "data": {
      "image/png": "[encoded data removed]",
      "text/plain": [
       "<Figure size 504x216 with 2 Axes>"
      ]
     },
     "metadata": {
      "needs_background": "light"
     },
     "output_type": "display_data"
    }
   ],
   "source": [
    "X_kpca = rbf_kernel_pca(X, gamma=15, n_components=2)\n",
    "\n",
    "fig, ax = plt.subplots(nrows=1, ncols=2, figsize=(7, 3))\n",
    "\n",
    "ax[0].scatter(X_kpca[y==0, 0], X_kpca[y==0, 1], color='red', marker='^', alpha=0.5)\n",
    "ax[0].scatter(X_kpca[y==1, 0], X_kpca[y==1, 1], color='blue', marker='o', alpha=0.5)\n",
    "\n",
    "ax[1].scatter(X_kpca[y==0, 0], np.zeros((50, 1)) + 0.02, color='red', marker='^', alpha=0.5)\n",
    "ax[1].scatter(X_kpca[y==1, 0], np.zeros((50, 1)) - 0.02, color='blue', marker='o', alpha=0.5)\n",
    "\n",
    "ax[0].set_xlabel('PC 1')\n",
    "ax[0].set_ylabel('PC 2')\n",
    "\n",
    "ax[1].set_ylim([-0.8, 0.8])\n",
    "ax[1].set_yticks([])\n",
    "ax[1].set_xlabel('PC 1')\n",
    "\n",
    "plt.show()"
   ]
  },
  {
   "cell_type": "markdown",
   "id": "9b311bcb",
   "metadata": {},
   "source": [
    "---\n",
    "예제 2: 동심원 분리하기"
   ]
  },
  {
   "cell_type": "code",
   "execution_count": 51,
   "id": "bc7a7797",
   "metadata": {},
   "outputs": [
    {
     "data": {
      "image/png": "[encoded data removed]",
      "text/plain": [
       "<Figure size 432x288 with 1 Axes>"
      ]
     },
     "metadata": {
      "needs_background": "light"
     },
     "output_type": "display_data"
    }
   ],
   "source": [
    "from sklearn.datasets import make_circles\n",
    "\n",
    "X, y = make_circles(n_samples=1000, random_state=123, noise=0.1, factor=0.2)\n",
    "\n",
    "plt.scatter(X[y==0, 0], X[y==0, 1], color='red', marker='^', alpha=0.5)\n",
    "plt.scatter(X[y==1, 0], X[y==1, 1], color='blue', marker='o', alpha=0.5)\n",
    "plt.tight_layout()\n",
    "plt.show()"
   ]
  },
  {
   "cell_type": "code",
   "execution_count": 52,
   "id": "a7c0c3e5",
   "metadata": {},
   "outputs": [],
   "source": [
    "scikit_pca = PCA(n_components=2)\n",
    "X_spca = scikit_pca.fit_transform(X)"
   ]
  },
  {
   "cell_type": "code",
   "execution_count": 53,
   "id": "4e5e013a",
   "metadata": {},
   "outputs": [
    {
     "data": {
      "image/png": "[encoded data removed]",
      "text/plain": [
       "<Figure size 504x216 with 2 Axes>"
      ]
     },
     "metadata": {
      "needs_background": "light"
     },
     "output_type": "display_data"
    }
   ],
   "source": [
    "fig, ax = plt.subplots(nrows=1, ncols=2, figsize=(7, 3))\n",
    "\n",
    "ax[0].scatter(X_spca[y==0, 0], X_spca[y==0, 1], color='red', marker='^', alpha=0.5)\n",
    "ax[0].scatter(X_spca[y==1, 0], X_spca[y==1, 1], color='blue', marker='o', alpha=0.5)\n",
    "\n",
    "ax[1].scatter(X_spca[y==0, 0], np.zeros((500, 1)) + 0.02, color='red', marker='^', alpha=0.5)\n",
    "ax[1].scatter(X_spca[y==1, 0], np.zeros((500, 1)) - 0.02, color='blue', marker='o', alpha=0.5)\n",
    "\n",
    "ax[0].set_xlabel('PC 1')\n",
    "ax[0].set_ylabel('PC 2')\n",
    "\n",
    "ax[1].set_ylim([-0.8, 0.8])\n",
    "ax[1].set_yticks([])\n",
    "ax[1].set_xlabel('PC 1')\n",
    "\n",
    "plt.show()"
   ]
  },
  {
   "cell_type": "code",
   "execution_count": 54,
   "id": "d69342ca",
   "metadata": {},
   "outputs": [
    {
     "data": {
      "image/png": "[encoded data removed]",
      "text/plain": [
       "<Figure size 504x216 with 2 Axes>"
      ]
     },
     "metadata": {
      "needs_background": "light"
     },
     "output_type": "display_data"
    }
   ],
   "source": [
    "X_kpca = rbf_kernel_pca(X, gamma=15, n_components=2)\n",
    "\n",
    "fig, ax = plt.subplots(nrows=1, ncols=2, figsize=(7, 3))\n",
    "\n",
    "ax[0].scatter(X_kpca[y==0, 0], X_kpca[y==0, 1], color='red', marker='^', alpha=0.5)\n",
    "ax[0].scatter(X_kpca[y==1, 0], X_kpca[y==1, 1], color='blue', marker='o', alpha=0.5)\n",
    "\n",
    "ax[1].scatter(X_kpca[y==0, 0], np.zeros((500, 1)) + 0.02, color='red', marker='^', alpha=0.5)\n",
    "ax[1].scatter(X_kpca[y==1, 0], np.zeros((500, 1)) - 0.02, color='blue', marker='o', alpha=0.5)\n",
    "\n",
    "ax[0].set_xlabel('PC 1')\n",
    "ax[0].set_ylabel('PC 2')\n",
    "\n",
    "ax[1].set_ylim([-0.8, 0.8])\n",
    "ax[1].set_yticks([])\n",
    "ax[1].set_xlabel('PC 1')\n",
    "\n",
    "plt.show()"
   ]
  },
  {
   "cell_type": "markdown",
   "id": "3ba5890b",
   "metadata": {},
   "source": [
    "### 새로운 데이터 포인트 투영 "
   ]
  },
  {
   "cell_type": "markdown",
   "id": "875137f1",
   "metadata": {},
   "source": [
    "\\begin{align*}\n",
    " \\phi\\left(\\mathbf{x}' \\right)^T \\mathbf{v} &= \\sum_i a^{(i)}\\phi\\left( \\mathbf{x}' \\right)^T \\phi\\left( \\mathbf{x}^{(i)} \\right)\\\\ \n",
    " &= \\sum_i a^{(i)} \\kappa\\left( \\mathbf{x}', \\mathbf{x}^{(i)} \\right) \\\\\n",
    "&\\Downarrow \\\\\n",
    "\\mathbf{K} \\mathbf{a} &=\\lambda \\mathbf{a}\n",
    "\\end{align*}"
   ]
  },
  {
   "cell_type": "code",
   "execution_count": 55,
   "id": "b05c268e",
   "metadata": {},
   "outputs": [],
   "source": [
    "from scipy.spatial.distance import pdist, squareform\n",
    "from scipy.linalg import eigh\n",
    "\n",
    "def rbf_kernel_pca(X, gamma, n_components):\n",
    "    \n",
    "    sq_dists = pdist(X, 'sqeuclidean')\n",
    "    mat_sq_dists = squareform(sq_dists)\n",
    "    \n",
    "    K = np.exp(-gamma * mat_sq_dists)\n",
    "    \n",
    "    N = K.shape[0]\n",
    "    one_n = np.ones((N, N)) / N\n",
    "    \n",
    "    K = K -one_n.dot(K) - K.dot(one_n) + one_n.dot(K).dot(one_n)\n",
    "    \n",
    "    eigvals, eigvecs = eigh(K)\n",
    "    eigvals, eigvecs = eigvals[::-1], eigvecs[:, ::-1]\n",
    "    \n",
    "    alphas = np.column_stack([eigvecs[:, i] for i in range(n_components)])\n",
    "    lambdas = [eigvals[i] for i in range(n_components)]\n",
    "    \n",
    "    return alphas, lambdas\n",
    "    "
   ]
  },
  {
   "cell_type": "code",
   "execution_count": 56,
   "id": "c6ff2cb4",
   "metadata": {},
   "outputs": [],
   "source": [
    "X, y = make_moons(n_samples=100, random_state=123)\n",
    "alphas, lambdas = rbf_kernel_pca(X, gamma=15, n_components=1)"
   ]
  },
  {
   "cell_type": "code",
   "execution_count": 57,
   "id": "fefff643",
   "metadata": {},
   "outputs": [
    {
     "name": "stdout",
     "output_type": "stream",
     "text": [
      "x_new = [1.8713 0.0093]\n",
      "x_proj = [0.0788]\n"
     ]
    }
   ],
   "source": [
    "x_new = X[25] # 새로운 데이터 포인트 x'로 가정\n",
    "x_proj = alphas[25] # 원본 투영\n",
    "\n",
    "print('x_new =', x_new)\n",
    "print('x_proj =', x_proj)"
   ]
  },
  {
   "cell_type": "code",
   "execution_count": 58,
   "id": "aab4b1b1",
   "metadata": {},
   "outputs": [
    {
     "data": {
      "text/plain": [
       "array([0.0788])"
      ]
     },
     "execution_count": 58,
     "metadata": {},
     "output_type": "execute_result"
    }
   ],
   "source": [
    "def project_x(x_new, X, gamma, alphas, lambdas):\n",
    "    pair_dist = np.array([np.sum((x_new - row)**2) for row in X])\n",
    "    k = np.exp(-gamma * pair_dist)\n",
    "    return k.dot(alphas / lambdas)\n",
    "\n",
    "# 새로운 데이터포인트를 투영합니다.\n",
    "x_reproj = project_x(x_new, X, gamma=15, alphas=alphas, lambdas=lambdas)\n",
    "x_reproj"
   ]
  },
  {
   "cell_type": "code",
   "execution_count": 59,
   "id": "d28a75ba",
   "metadata": {},
   "outputs": [
    {
     "data": {
      "image/png": "[encoded data removed]",
      "text/plain": [
       "<Figure size 432x288 with 1 Axes>"
      ]
     },
     "metadata": {
      "needs_background": "light"
     },
     "output_type": "display_data"
    }
   ],
   "source": [
    "plt.scatter(alphas[y == 0, 0], np.zeros((50)), color='red', marker='^', alpha=0.5)\n",
    "plt.scatter(alphas[y == 1, 0], np.zeros((50)), color='blue', marker='o', alpha=0.5)\n",
    "plt.scatter(x_proj, 0, color='black', label='Original projection of point X[25]', marker='^', s=100)\n",
    "plt.scatter(x_reproj, 0, color='green', label='Remapped point X[25]', marker='x', s=150)\n",
    "plt.yticks([], [])\n",
    "plt.legend(scatterpoints=1)\n",
    "plt.tight_layout()\n",
    "plt.show()"
   ]
  },
  {
   "cell_type": "markdown",
   "id": "ff01355a",
   "metadata": {},
   "source": [
    "### 사이킷런의 커널 PCA"
   ]
  },
  {
   "cell_type": "code",
   "execution_count": 60,
   "id": "822a1ca4",
   "metadata": {},
   "outputs": [],
   "source": [
    "from sklearn.decomposition import KernelPCA\n",
    "\n",
    "X, y = make_moons(n_samples=100, random_state=123)\n",
    "scikit_kpca = KernelPCA(n_components=2, kernel='rbf', gamma=15)"
   ]
  },
  {
   "cell_type": "code",
   "execution_count": 61,
   "id": "bde701a2",
   "metadata": {},
   "outputs": [],
   "source": [
    "X_sckpca = scikit_kpca.fit_transform(X)"
   ]
  },
  {
   "cell_type": "code",
   "execution_count": 62,
   "id": "b2d368e3",
   "metadata": {},
   "outputs": [
    {
     "data": {
      "image/png": "[encoded data removed]",
      "text/plain": [
       "<Figure size 432x288 with 1 Axes>"
      ]
     },
     "metadata": {
      "needs_background": "light"
     },
     "output_type": "display_data"
    }
   ],
   "source": [
    "plt.scatter(X_sckpca[y == 0, 0], X_sckpca[y == 0, 1], color='red', marker='^', alpha=0.5)\n",
    "plt.scatter(X_sckpca[y == 1, 0], X_sckpca[y == 1, 1], color='blue', marker='o', alpha=0.5)\n",
    "\n",
    "plt.xlabel('PC1')\n",
    "plt.ylabel('PC2')\n",
    "plt.tight_layout()\n",
    "plt.show()"
   ]
  },
  {
   "cell_type": "markdown",
   "id": "f4603249",
   "metadata": {},
   "source": [
    "---\n",
    "### 매니폴드 학습"
   ]
  },
  {
   "cell_type": "code",
   "execution_count": 63,
   "id": "c2ce46f2",
   "metadata": {},
   "outputs": [],
   "source": [
    "def plot_manifold(X, y):\n",
    "    \n",
    "    plt.scatter(X[y == 0, 0], X[y == 0, 1], color='red', marker='^', alpha=0.5)\n",
    "    plt.scatter(X[y == 1, 0], X[y == 1, 1], color='blue', marker='o', alpha=0.5)\n",
    "\n",
    "    plt.xlabel('PC1')\n",
    "    plt.ylabel('PC2')\n",
    "    plt.tight_layout()\n",
    "    plt.show()"
   ]
  },
  {
   "cell_type": "code",
   "execution_count": 64,
   "id": "91d8455a",
   "metadata": {},
   "outputs": [
    {
     "data": {
      "image/png": "[encoded data removed]",
      "text/plain": [
       "<Figure size 432x288 with 1 Axes>"
      ]
     },
     "metadata": {
      "needs_background": "light"
     },
     "output_type": "display_data"
    }
   ],
   "source": [
    "from sklearn.manifold import LocallyLinearEmbedding\n",
    "\n",
    "lle = LocallyLinearEmbedding(n_components=2, random_state=1)\n",
    "X_lle = lle.fit_transform(X)\n",
    "\n",
    "plot_manifold(X_lle, y)"
   ]
  },
  {
   "cell_type": "code",
   "execution_count": 65,
   "id": "fa4a66dd",
   "metadata": {},
   "outputs": [
    {
     "data": {
      "image/png": "[encoded data removed]",
      "text/plain": [
       "<Figure size 432x288 with 1 Axes>"
      ]
     },
     "metadata": {
      "needs_background": "light"
     },
     "output_type": "display_data"
    }
   ],
   "source": [
    "from sklearn.manifold import TSNE\n",
    "\n",
    "tsne = TSNE(n_components=2, random_state=1)\n",
    "X_tsne = tsne.fit_transform(X)\n",
    "\n",
    "plot_manifold(X_tsne, y)"
   ]
  },
  {
   "cell_type": "markdown",
   "id": "00d52716",
   "metadata": {},
   "source": [
    "---"
   ]
  },
  {
   "cell_type": "code",
   "execution_count": 66,
   "id": "ed4a91b2",
   "metadata": {},
   "outputs": [],
   "source": [
    "X, y = make_circles(n_samples=1000, random_state=123, noise=0.1, factor=0.2)"
   ]
  },
  {
   "cell_type": "code",
   "execution_count": 67,
   "id": "521194d2",
   "metadata": {},
   "outputs": [
    {
     "data": {
      "image/png": "[encoded data removed]",
      "text/plain": [
       "<Figure size 432x288 with 1 Axes>"
      ]
     },
     "metadata": {
      "needs_background": "light"
     },
     "output_type": "display_data"
    }
   ],
   "source": [
    "scikit_kpca = KernelPCA(n_components=2, kernel='rbf', gamma=15)\n",
    "X_sckpca = scikit_kpca.fit_transform(X)\n",
    "\n",
    "plot_manifold(X_sckpca, y)"
   ]
  },
  {
   "cell_type": "code",
   "execution_count": 68,
   "id": "93bfdbd6",
   "metadata": {},
   "outputs": [
    {
     "data": {
      "image/png": "[encoded data removed]",
      "text/plain": [
       "<Figure size 432x288 with 1 Axes>"
      ]
     },
     "metadata": {
      "needs_background": "light"
     },
     "output_type": "display_data"
    }
   ],
   "source": [
    "lle = LocallyLinearEmbedding(n_components=2, random_state=1)\n",
    "X_lle = lle.fit_transform(X)\n",
    "\n",
    "plot_manifold(X_lle, y)"
   ]
  },
  {
   "cell_type": "code",
   "execution_count": 69,
   "id": "1bd795a5",
   "metadata": {},
   "outputs": [
    {
     "data": {
      "image/png": "[encoded data removed]",
      "text/plain": [
       "<Figure size 432x288 with 1 Axes>"
      ]
     },
     "metadata": {
      "needs_background": "light"
     },
     "output_type": "display_data"
    }
   ],
   "source": [
    "tsne = TSNE(n_components=2, random_state=1)\n",
    "X_tsne = tsne.fit_transform(X)\n",
    "\n",
    "plot_manifold(X_tsne, y)"
   ]
  }
 ],
 "metadata": {
  "celltoolbar": "Slideshow",
  "kernelspec": {
   "display_name": "Python 3",
   "language": "python",
   "name": "python3"
  },
  "language_info": {
   "codemirror_mode": {
    "name": "ipython",
    "version": 3
   },
   "file_extension": ".py",
   "mimetype": "text/x-python",
   "name": "python",
   "nbconvert_exporter": "python",
   "pygments_lexer": "ipython3",
   "version": "3.9.4"
  }
 },
 "nbformat": 4,
 "nbformat_minor": 5
}
